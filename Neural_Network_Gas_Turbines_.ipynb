{
  "cells": [
    {
      "cell_type": "markdown",
      "metadata": {
        "id": "U2n3Hchd2UOB"
      },
      "source": [
        "### Import libraries"
      ]
    },
    {
      "cell_type": "code",
      "execution_count": 1,
      "metadata": {
        "id": "UjF2P8Hb2UOB"
      },
      "outputs": [],
      "source": [
        "import pandas as pd\n",
        "import numpy as np\n",
        "\n",
        "import matplotlib.pyplot as plt\n",
        "import seaborn as sns\n",
        "\n",
        "import tensorflow.keras\n",
        "import tensorflow\n",
        "from sklearn.preprocessing import StandardScaler\n",
        "from sklearn.preprocessing import MinMaxScaler\n",
        "from tensorflow.keras.models import Sequential\n",
        "from tensorflow.keras.layers import Dense\n",
        "from sklearn.model_selection import GridSearchCV, KFold\n",
        "from tensorflow.keras.wrappers.scikit_learn import KerasClassifier\n",
        "from tensorflow.keras.optimizers import Adam\n",
        "\n",
        "import warnings\n",
        "warnings.filterwarnings(\"ignore\")"
      ]
    },
    {
      "cell_type": "markdown",
      "metadata": {
        "id": "MfchwqrY2UOC"
      },
      "source": [
        "### Reading the input csv file"
      ]
    },
    {
      "cell_type": "code",
      "execution_count": 2,
      "metadata": {
        "colab": {
          "base_uri": "https://localhost:8080/",
          "height": 206
        },
        "id": "dieTEqT72UOD",
        "outputId": "ed55f72b-e5ec-4192-db37-fca07ee7723f"
      },
      "outputs": [
        {
          "output_type": "execute_result",
          "data": {
            "text/plain": [
              "       AT      AP      AH    AFDP    GTEP     TIT     TAT     TEY     CDP  \\\n",
              "0  6.8594  1007.9  96.799  3.5000  19.663  1059.2  550.00  114.70  10.605   \n",
              "1  6.7850  1008.4  97.118  3.4998  19.728  1059.3  550.00  114.72  10.598   \n",
              "2  6.8977  1008.8  95.939  3.4824  19.779  1059.4  549.87  114.71  10.601   \n",
              "3  7.0569  1009.2  95.249  3.4805  19.792  1059.6  549.99  114.72  10.606   \n",
              "4  7.3978  1009.7  95.150  3.4976  19.765  1059.7  549.98  114.72  10.612   \n",
              "\n",
              "       CO     NOX  \n",
              "0  3.1547  82.722  \n",
              "1  3.2363  82.776  \n",
              "2  3.2012  82.468  \n",
              "3  3.1923  82.670  \n",
              "4  3.2484  82.311  "
            ],
            "text/html": [
              "\n",
              "  <div id=\"df-f40e472a-f713-4d21-8bbc-90d90756997a\">\n",
              "    <div class=\"colab-df-container\">\n",
              "      <div>\n",
              "<style scoped>\n",
              "    .dataframe tbody tr th:only-of-type {\n",
              "        vertical-align: middle;\n",
              "    }\n",
              "\n",
              "    .dataframe tbody tr th {\n",
              "        vertical-align: top;\n",
              "    }\n",
              "\n",
              "    .dataframe thead th {\n",
              "        text-align: right;\n",
              "    }\n",
              "</style>\n",
              "<table border=\"1\" class=\"dataframe\">\n",
              "  <thead>\n",
              "    <tr style=\"text-align: right;\">\n",
              "      <th></th>\n",
              "      <th>AT</th>\n",
              "      <th>AP</th>\n",
              "      <th>AH</th>\n",
              "      <th>AFDP</th>\n",
              "      <th>GTEP</th>\n",
              "      <th>TIT</th>\n",
              "      <th>TAT</th>\n",
              "      <th>TEY</th>\n",
              "      <th>CDP</th>\n",
              "      <th>CO</th>\n",
              "      <th>NOX</th>\n",
              "    </tr>\n",
              "  </thead>\n",
              "  <tbody>\n",
              "    <tr>\n",
              "      <th>0</th>\n",
              "      <td>6.8594</td>\n",
              "      <td>1007.9</td>\n",
              "      <td>96.799</td>\n",
              "      <td>3.5000</td>\n",
              "      <td>19.663</td>\n",
              "      <td>1059.2</td>\n",
              "      <td>550.00</td>\n",
              "      <td>114.70</td>\n",
              "      <td>10.605</td>\n",
              "      <td>3.1547</td>\n",
              "      <td>82.722</td>\n",
              "    </tr>\n",
              "    <tr>\n",
              "      <th>1</th>\n",
              "      <td>6.7850</td>\n",
              "      <td>1008.4</td>\n",
              "      <td>97.118</td>\n",
              "      <td>3.4998</td>\n",
              "      <td>19.728</td>\n",
              "      <td>1059.3</td>\n",
              "      <td>550.00</td>\n",
              "      <td>114.72</td>\n",
              "      <td>10.598</td>\n",
              "      <td>3.2363</td>\n",
              "      <td>82.776</td>\n",
              "    </tr>\n",
              "    <tr>\n",
              "      <th>2</th>\n",
              "      <td>6.8977</td>\n",
              "      <td>1008.8</td>\n",
              "      <td>95.939</td>\n",
              "      <td>3.4824</td>\n",
              "      <td>19.779</td>\n",
              "      <td>1059.4</td>\n",
              "      <td>549.87</td>\n",
              "      <td>114.71</td>\n",
              "      <td>10.601</td>\n",
              "      <td>3.2012</td>\n",
              "      <td>82.468</td>\n",
              "    </tr>\n",
              "    <tr>\n",
              "      <th>3</th>\n",
              "      <td>7.0569</td>\n",
              "      <td>1009.2</td>\n",
              "      <td>95.249</td>\n",
              "      <td>3.4805</td>\n",
              "      <td>19.792</td>\n",
              "      <td>1059.6</td>\n",
              "      <td>549.99</td>\n",
              "      <td>114.72</td>\n",
              "      <td>10.606</td>\n",
              "      <td>3.1923</td>\n",
              "      <td>82.670</td>\n",
              "    </tr>\n",
              "    <tr>\n",
              "      <th>4</th>\n",
              "      <td>7.3978</td>\n",
              "      <td>1009.7</td>\n",
              "      <td>95.150</td>\n",
              "      <td>3.4976</td>\n",
              "      <td>19.765</td>\n",
              "      <td>1059.7</td>\n",
              "      <td>549.98</td>\n",
              "      <td>114.72</td>\n",
              "      <td>10.612</td>\n",
              "      <td>3.2484</td>\n",
              "      <td>82.311</td>\n",
              "    </tr>\n",
              "  </tbody>\n",
              "</table>\n",
              "</div>\n",
              "      <button class=\"colab-df-convert\" onclick=\"convertToInteractive('df-f40e472a-f713-4d21-8bbc-90d90756997a')\"\n",
              "              title=\"Convert this dataframe to an interactive table.\"\n",
              "              style=\"display:none;\">\n",
              "        \n",
              "  <svg xmlns=\"http://www.w3.org/2000/svg\" height=\"24px\"viewBox=\"0 0 24 24\"\n",
              "       width=\"24px\">\n",
              "    <path d=\"M0 0h24v24H0V0z\" fill=\"none\"/>\n",
              "    <path d=\"M18.56 5.44l.94 2.06.94-2.06 2.06-.94-2.06-.94-.94-2.06-.94 2.06-2.06.94zm-11 1L8.5 8.5l.94-2.06 2.06-.94-2.06-.94L8.5 2.5l-.94 2.06-2.06.94zm10 10l.94 2.06.94-2.06 2.06-.94-2.06-.94-.94-2.06-.94 2.06-2.06.94z\"/><path d=\"M17.41 7.96l-1.37-1.37c-.4-.4-.92-.59-1.43-.59-.52 0-1.04.2-1.43.59L10.3 9.45l-7.72 7.72c-.78.78-.78 2.05 0 2.83L4 21.41c.39.39.9.59 1.41.59.51 0 1.02-.2 1.41-.59l7.78-7.78 2.81-2.81c.8-.78.8-2.07 0-2.86zM5.41 20L4 18.59l7.72-7.72 1.47 1.35L5.41 20z\"/>\n",
              "  </svg>\n",
              "      </button>\n",
              "      \n",
              "  <style>\n",
              "    .colab-df-container {\n",
              "      display:flex;\n",
              "      flex-wrap:wrap;\n",
              "      gap: 12px;\n",
              "    }\n",
              "\n",
              "    .colab-df-convert {\n",
              "      background-color: #E8F0FE;\n",
              "      border: none;\n",
              "      border-radius: 50%;\n",
              "      cursor: pointer;\n",
              "      display: none;\n",
              "      fill: #1967D2;\n",
              "      height: 32px;\n",
              "      padding: 0 0 0 0;\n",
              "      width: 32px;\n",
              "    }\n",
              "\n",
              "    .colab-df-convert:hover {\n",
              "      background-color: #E2EBFA;\n",
              "      box-shadow: 0px 1px 2px rgba(60, 64, 67, 0.3), 0px 1px 3px 1px rgba(60, 64, 67, 0.15);\n",
              "      fill: #174EA6;\n",
              "    }\n",
              "\n",
              "    [theme=dark] .colab-df-convert {\n",
              "      background-color: #3B4455;\n",
              "      fill: #D2E3FC;\n",
              "    }\n",
              "\n",
              "    [theme=dark] .colab-df-convert:hover {\n",
              "      background-color: #434B5C;\n",
              "      box-shadow: 0px 1px 3px 1px rgba(0, 0, 0, 0.15);\n",
              "      filter: drop-shadow(0px 1px 2px rgba(0, 0, 0, 0.3));\n",
              "      fill: #FFFFFF;\n",
              "    }\n",
              "  </style>\n",
              "\n",
              "      <script>\n",
              "        const buttonEl =\n",
              "          document.querySelector('#df-f40e472a-f713-4d21-8bbc-90d90756997a button.colab-df-convert');\n",
              "        buttonEl.style.display =\n",
              "          google.colab.kernel.accessAllowed ? 'block' : 'none';\n",
              "\n",
              "        async function convertToInteractive(key) {\n",
              "          const element = document.querySelector('#df-f40e472a-f713-4d21-8bbc-90d90756997a');\n",
              "          const dataTable =\n",
              "            await google.colab.kernel.invokeFunction('convertToInteractive',\n",
              "                                                     [key], {});\n",
              "          if (!dataTable) return;\n",
              "\n",
              "          const docLinkHtml = 'Like what you see? Visit the ' +\n",
              "            '<a target=\"_blank\" href=https://colab.research.google.com/notebooks/data_table.ipynb>data table notebook</a>'\n",
              "            + ' to learn more about interactive tables.';\n",
              "          element.innerHTML = '';\n",
              "          dataTable['output_type'] = 'display_data';\n",
              "          await google.colab.output.renderOutput(dataTable, element);\n",
              "          const docLink = document.createElement('div');\n",
              "          docLink.innerHTML = docLinkHtml;\n",
              "          element.appendChild(docLink);\n",
              "        }\n",
              "      </script>\n",
              "    </div>\n",
              "  </div>\n",
              "  "
            ]
          },
          "metadata": {},
          "execution_count": 2
        }
      ],
      "source": [
        "data = pd.read_csv(\"/content/gas_turbines.csv\")\n",
        "data.head()"
      ]
    },
    {
      "cell_type": "markdown",
      "metadata": {
        "id": "Ta04Cau02UOE"
      },
      "source": [
        "### Checking for the null values and the data types of the features"
      ]
    },
    {
      "cell_type": "code",
      "execution_count": 3,
      "metadata": {
        "colab": {
          "base_uri": "https://localhost:8080/"
        },
        "id": "4yLgvrxD2UOF",
        "outputId": "79b0c224-a59a-4e7f-e474-9cad0705fa57"
      },
      "outputs": [
        {
          "output_type": "stream",
          "name": "stdout",
          "text": [
            "<class 'pandas.core.frame.DataFrame'>\n",
            "RangeIndex: 15039 entries, 0 to 15038\n",
            "Data columns (total 11 columns):\n",
            " #   Column  Non-Null Count  Dtype  \n",
            "---  ------  --------------  -----  \n",
            " 0   AT      15039 non-null  float64\n",
            " 1   AP      15039 non-null  float64\n",
            " 2   AH      15039 non-null  float64\n",
            " 3   AFDP    15039 non-null  float64\n",
            " 4   GTEP    15039 non-null  float64\n",
            " 5   TIT     15039 non-null  float64\n",
            " 6   TAT     15039 non-null  float64\n",
            " 7   TEY     15039 non-null  float64\n",
            " 8   CDP     15039 non-null  float64\n",
            " 9   CO      15039 non-null  float64\n",
            " 10  NOX     15039 non-null  float64\n",
            "dtypes: float64(11)\n",
            "memory usage: 1.3 MB\n"
          ]
        }
      ],
      "source": [
        "data.info()"
      ]
    },
    {
      "cell_type": "markdown",
      "metadata": {
        "id": "E_pP_ShD2UOF"
      },
      "source": [
        "### Check for duplicate values in the input data file"
      ]
    },
    {
      "cell_type": "code",
      "execution_count": 4,
      "metadata": {
        "colab": {
          "base_uri": "https://localhost:8080/",
          "height": 49
        },
        "id": "0GValf3g2UOF",
        "outputId": "f5225ce3-cbc3-4626-8507-ddf32eb6efdb"
      },
      "outputs": [
        {
          "output_type": "execute_result",
          "data": {
            "text/plain": [
              "Empty DataFrame\n",
              "Columns: [AT, AP, AH, AFDP, GTEP, TIT, TAT, TEY, CDP, CO, NOX]\n",
              "Index: []"
            ],
            "text/html": [
              "\n",
              "  <div id=\"df-0d9aeb69-2247-4f26-804d-772cae6d214f\">\n",
              "    <div class=\"colab-df-container\">\n",
              "      <div>\n",
              "<style scoped>\n",
              "    .dataframe tbody tr th:only-of-type {\n",
              "        vertical-align: middle;\n",
              "    }\n",
              "\n",
              "    .dataframe tbody tr th {\n",
              "        vertical-align: top;\n",
              "    }\n",
              "\n",
              "    .dataframe thead th {\n",
              "        text-align: right;\n",
              "    }\n",
              "</style>\n",
              "<table border=\"1\" class=\"dataframe\">\n",
              "  <thead>\n",
              "    <tr style=\"text-align: right;\">\n",
              "      <th></th>\n",
              "      <th>AT</th>\n",
              "      <th>AP</th>\n",
              "      <th>AH</th>\n",
              "      <th>AFDP</th>\n",
              "      <th>GTEP</th>\n",
              "      <th>TIT</th>\n",
              "      <th>TAT</th>\n",
              "      <th>TEY</th>\n",
              "      <th>CDP</th>\n",
              "      <th>CO</th>\n",
              "      <th>NOX</th>\n",
              "    </tr>\n",
              "  </thead>\n",
              "  <tbody>\n",
              "  </tbody>\n",
              "</table>\n",
              "</div>\n",
              "      <button class=\"colab-df-convert\" onclick=\"convertToInteractive('df-0d9aeb69-2247-4f26-804d-772cae6d214f')\"\n",
              "              title=\"Convert this dataframe to an interactive table.\"\n",
              "              style=\"display:none;\">\n",
              "        \n",
              "  <svg xmlns=\"http://www.w3.org/2000/svg\" height=\"24px\"viewBox=\"0 0 24 24\"\n",
              "       width=\"24px\">\n",
              "    <path d=\"M0 0h24v24H0V0z\" fill=\"none\"/>\n",
              "    <path d=\"M18.56 5.44l.94 2.06.94-2.06 2.06-.94-2.06-.94-.94-2.06-.94 2.06-2.06.94zm-11 1L8.5 8.5l.94-2.06 2.06-.94-2.06-.94L8.5 2.5l-.94 2.06-2.06.94zm10 10l.94 2.06.94-2.06 2.06-.94-2.06-.94-.94-2.06-.94 2.06-2.06.94z\"/><path d=\"M17.41 7.96l-1.37-1.37c-.4-.4-.92-.59-1.43-.59-.52 0-1.04.2-1.43.59L10.3 9.45l-7.72 7.72c-.78.78-.78 2.05 0 2.83L4 21.41c.39.39.9.59 1.41.59.51 0 1.02-.2 1.41-.59l7.78-7.78 2.81-2.81c.8-.78.8-2.07 0-2.86zM5.41 20L4 18.59l7.72-7.72 1.47 1.35L5.41 20z\"/>\n",
              "  </svg>\n",
              "      </button>\n",
              "      \n",
              "  <style>\n",
              "    .colab-df-container {\n",
              "      display:flex;\n",
              "      flex-wrap:wrap;\n",
              "      gap: 12px;\n",
              "    }\n",
              "\n",
              "    .colab-df-convert {\n",
              "      background-color: #E8F0FE;\n",
              "      border: none;\n",
              "      border-radius: 50%;\n",
              "      cursor: pointer;\n",
              "      display: none;\n",
              "      fill: #1967D2;\n",
              "      height: 32px;\n",
              "      padding: 0 0 0 0;\n",
              "      width: 32px;\n",
              "    }\n",
              "\n",
              "    .colab-df-convert:hover {\n",
              "      background-color: #E2EBFA;\n",
              "      box-shadow: 0px 1px 2px rgba(60, 64, 67, 0.3), 0px 1px 3px 1px rgba(60, 64, 67, 0.15);\n",
              "      fill: #174EA6;\n",
              "    }\n",
              "\n",
              "    [theme=dark] .colab-df-convert {\n",
              "      background-color: #3B4455;\n",
              "      fill: #D2E3FC;\n",
              "    }\n",
              "\n",
              "    [theme=dark] .colab-df-convert:hover {\n",
              "      background-color: #434B5C;\n",
              "      box-shadow: 0px 1px 3px 1px rgba(0, 0, 0, 0.15);\n",
              "      filter: drop-shadow(0px 1px 2px rgba(0, 0, 0, 0.3));\n",
              "      fill: #FFFFFF;\n",
              "    }\n",
              "  </style>\n",
              "\n",
              "      <script>\n",
              "        const buttonEl =\n",
              "          document.querySelector('#df-0d9aeb69-2247-4f26-804d-772cae6d214f button.colab-df-convert');\n",
              "        buttonEl.style.display =\n",
              "          google.colab.kernel.accessAllowed ? 'block' : 'none';\n",
              "\n",
              "        async function convertToInteractive(key) {\n",
              "          const element = document.querySelector('#df-0d9aeb69-2247-4f26-804d-772cae6d214f');\n",
              "          const dataTable =\n",
              "            await google.colab.kernel.invokeFunction('convertToInteractive',\n",
              "                                                     [key], {});\n",
              "          if (!dataTable) return;\n",
              "\n",
              "          const docLinkHtml = 'Like what you see? Visit the ' +\n",
              "            '<a target=\"_blank\" href=https://colab.research.google.com/notebooks/data_table.ipynb>data table notebook</a>'\n",
              "            + ' to learn more about interactive tables.';\n",
              "          element.innerHTML = '';\n",
              "          dataTable['output_type'] = 'display_data';\n",
              "          await google.colab.output.renderOutput(dataTable, element);\n",
              "          const docLink = document.createElement('div');\n",
              "          docLink.innerHTML = docLinkHtml;\n",
              "          element.appendChild(docLink);\n",
              "        }\n",
              "      </script>\n",
              "    </div>\n",
              "  </div>\n",
              "  "
            ]
          },
          "metadata": {},
          "execution_count": 4
        }
      ],
      "source": [
        "data[data.duplicated()]"
      ]
    },
    {
      "cell_type": "markdown",
      "metadata": {
        "id": "eZJljT5e2UOG"
      },
      "source": [
        "### Cheking the normal distribution of the data using distplot"
      ]
    },
    {
      "cell_type": "code",
      "execution_count": 5,
      "metadata": {
        "colab": {
          "base_uri": "https://localhost:8080/",
          "height": 557
        },
        "id": "iwSdUMyI2UOG",
        "outputId": "3da98607-43bf-4171-c87d-ad6bf2eb98c0"
      },
      "outputs": [
        {
          "output_type": "display_data",
          "data": {
            "text/plain": [
              "<Figure size 1080x720 with 12 Axes>"
            ],
            "image/png": "[encoded data removed]"
          },
          "metadata": {
            "needs_background": "light"
          }
        }
      ],
      "source": [
        "fig, ax = plt.subplots(4, 3, figsize=(15,10))\n",
        "sns.distplot(data.AT, ax=ax[0,0],color='g')\n",
        "sns.distplot(data.AP, ax=ax[0,1])\n",
        "sns.distplot(data.AH, ax=ax[0,2],color='g')\n",
        "sns.distplot(data.AFDP, ax=ax[1,0])\n",
        "sns.distplot(data.GTEP, ax=ax[1,1],color='g')\n",
        "sns.distplot(data.TIT, ax=ax[1,2])\n",
        "sns.distplot(data.TAT, ax=ax[2,0],color='g')\n",
        "sns.distplot(data.TEY, ax=ax[2,1])\n",
        "sns.distplot(data.CDP, ax=ax[2,2],color='g')\n",
        "sns.distplot(data.CO, ax=ax[3,0])\n",
        "sns.distplot(data.NOX, ax=ax[3,1],color='g')\n",
        "\n",
        "plt.tight_layout()\n",
        "plt.show()"
      ]
    },
    {
      "cell_type": "markdown",
      "metadata": {
        "id": "VeP4AuTH2UOH"
      },
      "source": [
        "### Check for outliers in the dataset, using boxplot"
      ]
    },
    {
      "cell_type": "code",
      "execution_count": 6,
      "metadata": {
        "colab": {
          "base_uri": "https://localhost:8080/",
          "height": 557
        },
        "id": "H8vbJ6Be2UOH",
        "outputId": "a4e0d111-1d04-4b8c-f0a1-16f10c8d4724"
      },
      "outputs": [
        {
          "output_type": "display_data",
          "data": {
            "text/plain": [
              "<Figure size 1080x720 with 12 Axes>"
            ],
            "image/png": "[encoded data removed]"
          },
          "metadata": {
            "needs_background": "light"
          }
        }
      ],
      "source": [
        "fig, ax = plt.subplots(4, 3, figsize=(15,10))\n",
        "sns.boxplot(data.AT, ax=ax[0,0],color='g')\n",
        "sns.boxplot(data.AP, ax=ax[0,1])\n",
        "sns.boxplot(data.AH, ax=ax[0,2],color='g')\n",
        "sns.boxplot(data.AFDP, ax=ax[1,0])\n",
        "sns.boxplot(data.GTEP, ax=ax[1,1],color='g')\n",
        "sns.boxplot(data.TIT, ax=ax[1,2])\n",
        "sns.boxplot(data.TAT, ax=ax[2,0],color='g')\n",
        "sns.boxplot(data.TEY, ax=ax[2,1])\n",
        "sns.boxplot(data.CDP, ax=ax[2,2],color='g')\n",
        "sns.boxplot(data.CO, ax=ax[3,0])\n",
        "sns.boxplot(data.NOX, ax=ax[3,1],color='g')\n",
        "\n",
        "plt.tight_layout()\n",
        "plt.show()"
      ]
    },
    {
      "cell_type": "markdown",
      "metadata": {
        "id": "a8oyKXfi2UOI"
      },
      "source": [
        "### Normalising the data using a mixmax scaler library "
      ]
    },
    {
      "cell_type": "code",
      "execution_count": 7,
      "metadata": {
        "colab": {
          "base_uri": "https://localhost:8080/",
          "height": 487
        },
        "id": "jyfTsktH2UOI",
        "outputId": "d32b072a-a624-4acc-a430-d70715b0e482"
      },
      "outputs": [
        {
          "output_type": "execute_result",
          "data": {
            "text/plain": [
              "             AT        AP        AH      AFDP      GTEP    TIT       TAT  \\\n",
              "0      0.184182  0.456050  0.951314  0.255758  0.091426  0.584  0.984015   \n",
              "1      0.182020  0.466391  0.955881  0.255721  0.094755  0.585  0.984015   \n",
              "2      0.185295  0.474664  0.939003  0.252571  0.097367  0.586  0.980608   \n",
              "3      0.189922  0.482937  0.929126  0.252227  0.098033  0.588  0.983753   \n",
              "4      0.199830  0.493278  0.927708  0.255323  0.096650  0.589  0.983491   \n",
              "...         ...       ...       ...       ...       ...    ...       ...   \n",
              "15034  0.247272  0.408480  0.975092  0.263380  0.065868  0.489  0.884696   \n",
              "15035  0.214075  0.414685  0.984153  0.256826  0.078672  0.455  0.806342   \n",
              "15036  0.195962  0.422958  0.989922  0.251593  0.084614  0.369  0.651730   \n",
              "15037  0.188443  0.433299  0.982936  0.246451  0.076777  0.424  0.754455   \n",
              "15038  0.186173  0.441572  0.961821  0.242631  0.073141  0.491  0.875262   \n",
              "\n",
              "            TEY       CDP        CO       NOX  \n",
              "0      0.195191  0.135340  0.071522  0.596548  \n",
              "1      0.195459  0.133988  0.073372  0.597134  \n",
              "2      0.195325  0.134567  0.072576  0.593791  \n",
              "3      0.195459  0.135533  0.072375  0.595984  \n",
              "4      0.195459  0.136692  0.073647  0.592087  \n",
              "...         ...       ...       ...       ...  \n",
              "15034  0.153681  0.095739  0.102448  0.562214  \n",
              "15035  0.155965  0.102113  0.109894  0.566100  \n",
              "15036  0.134605  0.111772  0.180552  0.685449  \n",
              "15037  0.141994  0.121431  0.141693  0.710578  \n",
              "15038  0.153278  0.131090  0.112946  0.702665  \n",
              "\n",
              "[15039 rows x 11 columns]"
            ],
            "text/html": [
              "\n",
              "  <div id=\"df-464b7116-6a99-4eaa-848e-b6de6c7c12f7\">\n",
              "    <div class=\"colab-df-container\">\n",
              "      <div>\n",
              "<style scoped>\n",
              "    .dataframe tbody tr th:only-of-type {\n",
              "        vertical-align: middle;\n",
              "    }\n",
              "\n",
              "    .dataframe tbody tr th {\n",
              "        vertical-align: top;\n",
              "    }\n",
              "\n",
              "    .dataframe thead th {\n",
              "        text-align: right;\n",
              "    }\n",
              "</style>\n",
              "<table border=\"1\" class=\"dataframe\">\n",
              "  <thead>\n",
              "    <tr style=\"text-align: right;\">\n",
              "      <th></th>\n",
              "      <th>AT</th>\n",
              "      <th>AP</th>\n",
              "      <th>AH</th>\n",
              "      <th>AFDP</th>\n",
              "      <th>GTEP</th>\n",
              "      <th>TIT</th>\n",
              "      <th>TAT</th>\n",
              "      <th>TEY</th>\n",
              "      <th>CDP</th>\n",
              "      <th>CO</th>\n",
              "      <th>NOX</th>\n",
              "    </tr>\n",
              "  </thead>\n",
              "  <tbody>\n",
              "    <tr>\n",
              "      <th>0</th>\n",
              "      <td>0.184182</td>\n",
              "      <td>0.456050</td>\n",
              "      <td>0.951314</td>\n",
              "      <td>0.255758</td>\n",
              "      <td>0.091426</td>\n",
              "      <td>0.584</td>\n",
              "      <td>0.984015</td>\n",
              "      <td>0.195191</td>\n",
              "      <td>0.135340</td>\n",
              "      <td>0.071522</td>\n",
              "      <td>0.596548</td>\n",
              "    </tr>\n",
              "    <tr>\n",
              "      <th>1</th>\n",
              "      <td>0.182020</td>\n",
              "      <td>0.466391</td>\n",
              "      <td>0.955881</td>\n",
              "      <td>0.255721</td>\n",
              "      <td>0.094755</td>\n",
              "      <td>0.585</td>\n",
              "      <td>0.984015</td>\n",
              "      <td>0.195459</td>\n",
              "      <td>0.133988</td>\n",
              "      <td>0.073372</td>\n",
              "      <td>0.597134</td>\n",
              "    </tr>\n",
              "    <tr>\n",
              "      <th>2</th>\n",
              "      <td>0.185295</td>\n",
              "      <td>0.474664</td>\n",
              "      <td>0.939003</td>\n",
              "      <td>0.252571</td>\n",
              "      <td>0.097367</td>\n",
              "      <td>0.586</td>\n",
              "      <td>0.980608</td>\n",
              "      <td>0.195325</td>\n",
              "      <td>0.134567</td>\n",
              "      <td>0.072576</td>\n",
              "      <td>0.593791</td>\n",
              "    </tr>\n",
              "    <tr>\n",
              "      <th>3</th>\n",
              "      <td>0.189922</td>\n",
              "      <td>0.482937</td>\n",
              "      <td>0.929126</td>\n",
              "      <td>0.252227</td>\n",
              "      <td>0.098033</td>\n",
              "      <td>0.588</td>\n",
              "      <td>0.983753</td>\n",
              "      <td>0.195459</td>\n",
              "      <td>0.135533</td>\n",
              "      <td>0.072375</td>\n",
              "      <td>0.595984</td>\n",
              "    </tr>\n",
              "    <tr>\n",
              "      <th>4</th>\n",
              "      <td>0.199830</td>\n",
              "      <td>0.493278</td>\n",
              "      <td>0.927708</td>\n",
              "      <td>0.255323</td>\n",
              "      <td>0.096650</td>\n",
              "      <td>0.589</td>\n",
              "      <td>0.983491</td>\n",
              "      <td>0.195459</td>\n",
              "      <td>0.136692</td>\n",
              "      <td>0.073647</td>\n",
              "      <td>0.592087</td>\n",
              "    </tr>\n",
              "    <tr>\n",
              "      <th>...</th>\n",
              "      <td>...</td>\n",
              "      <td>...</td>\n",
              "      <td>...</td>\n",
              "      <td>...</td>\n",
              "      <td>...</td>\n",
              "      <td>...</td>\n",
              "      <td>...</td>\n",
              "      <td>...</td>\n",
              "      <td>...</td>\n",
              "      <td>...</td>\n",
              "      <td>...</td>\n",
              "    </tr>\n",
              "    <tr>\n",
              "      <th>15034</th>\n",
              "      <td>0.247272</td>\n",
              "      <td>0.408480</td>\n",
              "      <td>0.975092</td>\n",
              "      <td>0.263380</td>\n",
              "      <td>0.065868</td>\n",
              "      <td>0.489</td>\n",
              "      <td>0.884696</td>\n",
              "      <td>0.153681</td>\n",
              "      <td>0.095739</td>\n",
              "      <td>0.102448</td>\n",
              "      <td>0.562214</td>\n",
              "    </tr>\n",
              "    <tr>\n",
              "      <th>15035</th>\n",
              "      <td>0.214075</td>\n",
              "      <td>0.414685</td>\n",
              "      <td>0.984153</td>\n",
              "      <td>0.256826</td>\n",
              "      <td>0.078672</td>\n",
              "      <td>0.455</td>\n",
              "      <td>0.806342</td>\n",
              "      <td>0.155965</td>\n",
              "      <td>0.102113</td>\n",
              "      <td>0.109894</td>\n",
              "      <td>0.566100</td>\n",
              "    </tr>\n",
              "    <tr>\n",
              "      <th>15036</th>\n",
              "      <td>0.195962</td>\n",
              "      <td>0.422958</td>\n",
              "      <td>0.989922</td>\n",
              "      <td>0.251593</td>\n",
              "      <td>0.084614</td>\n",
              "      <td>0.369</td>\n",
              "      <td>0.651730</td>\n",
              "      <td>0.134605</td>\n",
              "      <td>0.111772</td>\n",
              "      <td>0.180552</td>\n",
              "      <td>0.685449</td>\n",
              "    </tr>\n",
              "    <tr>\n",
              "      <th>15037</th>\n",
              "      <td>0.188443</td>\n",
              "      <td>0.433299</td>\n",
              "      <td>0.982936</td>\n",
              "      <td>0.246451</td>\n",
              "      <td>0.076777</td>\n",
              "      <td>0.424</td>\n",
              "      <td>0.754455</td>\n",
              "      <td>0.141994</td>\n",
              "      <td>0.121431</td>\n",
              "      <td>0.141693</td>\n",
              "      <td>0.710578</td>\n",
              "    </tr>\n",
              "    <tr>\n",
              "      <th>15038</th>\n",
              "      <td>0.186173</td>\n",
              "      <td>0.441572</td>\n",
              "      <td>0.961821</td>\n",
              "      <td>0.242631</td>\n",
              "      <td>0.073141</td>\n",
              "      <td>0.491</td>\n",
              "      <td>0.875262</td>\n",
              "      <td>0.153278</td>\n",
              "      <td>0.131090</td>\n",
              "      <td>0.112946</td>\n",
              "      <td>0.702665</td>\n",
              "    </tr>\n",
              "  </tbody>\n",
              "</table>\n",
              "<p>15039 rows × 11 columns</p>\n",
              "</div>\n",
              "      <button class=\"colab-df-convert\" onclick=\"convertToInteractive('df-464b7116-6a99-4eaa-848e-b6de6c7c12f7')\"\n",
              "              title=\"Convert this dataframe to an interactive table.\"\n",
              "              style=\"display:none;\">\n",
              "        \n",
              "  <svg xmlns=\"http://www.w3.org/2000/svg\" height=\"24px\"viewBox=\"0 0 24 24\"\n",
              "       width=\"24px\">\n",
              "    <path d=\"M0 0h24v24H0V0z\" fill=\"none\"/>\n",
              "    <path d=\"M18.56 5.44l.94 2.06.94-2.06 2.06-.94-2.06-.94-.94-2.06-.94 2.06-2.06.94zm-11 1L8.5 8.5l.94-2.06 2.06-.94-2.06-.94L8.5 2.5l-.94 2.06-2.06.94zm10 10l.94 2.06.94-2.06 2.06-.94-2.06-.94-.94-2.06-.94 2.06-2.06.94z\"/><path d=\"M17.41 7.96l-1.37-1.37c-.4-.4-.92-.59-1.43-.59-.52 0-1.04.2-1.43.59L10.3 9.45l-7.72 7.72c-.78.78-.78 2.05 0 2.83L4 21.41c.39.39.9.59 1.41.59.51 0 1.02-.2 1.41-.59l7.78-7.78 2.81-2.81c.8-.78.8-2.07 0-2.86zM5.41 20L4 18.59l7.72-7.72 1.47 1.35L5.41 20z\"/>\n",
              "  </svg>\n",
              "      </button>\n",
              "      \n",
              "  <style>\n",
              "    .colab-df-container {\n",
              "      display:flex;\n",
              "      flex-wrap:wrap;\n",
              "      gap: 12px;\n",
              "    }\n",
              "\n",
              "    .colab-df-convert {\n",
              "      background-color: #E8F0FE;\n",
              "      border: none;\n",
              "      border-radius: 50%;\n",
              "      cursor: pointer;\n",
              "      display: none;\n",
              "      fill: #1967D2;\n",
              "      height: 32px;\n",
              "      padding: 0 0 0 0;\n",
              "      width: 32px;\n",
              "    }\n",
              "\n",
              "    .colab-df-convert:hover {\n",
              "      background-color: #E2EBFA;\n",
              "      box-shadow: 0px 1px 2px rgba(60, 64, 67, 0.3), 0px 1px 3px 1px rgba(60, 64, 67, 0.15);\n",
              "      fill: #174EA6;\n",
              "    }\n",
              "\n",
              "    [theme=dark] .colab-df-convert {\n",
              "      background-color: #3B4455;\n",
              "      fill: #D2E3FC;\n",
              "    }\n",
              "\n",
              "    [theme=dark] .colab-df-convert:hover {\n",
              "      background-color: #434B5C;\n",
              "      box-shadow: 0px 1px 3px 1px rgba(0, 0, 0, 0.15);\n",
              "      filter: drop-shadow(0px 1px 2px rgba(0, 0, 0, 0.3));\n",
              "      fill: #FFFFFF;\n",
              "    }\n",
              "  </style>\n",
              "\n",
              "      <script>\n",
              "        const buttonEl =\n",
              "          document.querySelector('#df-464b7116-6a99-4eaa-848e-b6de6c7c12f7 button.colab-df-convert');\n",
              "        buttonEl.style.display =\n",
              "          google.colab.kernel.accessAllowed ? 'block' : 'none';\n",
              "\n",
              "        async function convertToInteractive(key) {\n",
              "          const element = document.querySelector('#df-464b7116-6a99-4eaa-848e-b6de6c7c12f7');\n",
              "          const dataTable =\n",
              "            await google.colab.kernel.invokeFunction('convertToInteractive',\n",
              "                                                     [key], {});\n",
              "          if (!dataTable) return;\n",
              "\n",
              "          const docLinkHtml = 'Like what you see? Visit the ' +\n",
              "            '<a target=\"_blank\" href=https://colab.research.google.com/notebooks/data_table.ipynb>data table notebook</a>'\n",
              "            + ' to learn more about interactive tables.';\n",
              "          element.innerHTML = '';\n",
              "          dataTable['output_type'] = 'display_data';\n",
              "          await google.colab.output.renderOutput(dataTable, element);\n",
              "          const docLink = document.createElement('div');\n",
              "          docLink.innerHTML = docLinkHtml;\n",
              "          element.appendChild(docLink);\n",
              "        }\n",
              "      </script>\n",
              "    </div>\n",
              "  </div>\n",
              "  "
            ]
          },
          "metadata": {},
          "execution_count": 7
        }
      ],
      "source": [
        "scale=MinMaxScaler()\n",
        "data1=pd.DataFrame(scale.fit_transform(data),columns=['AT','AP','AH','AFDP','GTEP','TIT','TAT','TEY','CDP','CO','NOX'])\n",
        "data1"
      ]
    },
    {
      "cell_type": "markdown",
      "metadata": {
        "id": "8gdgeEt72UOJ"
      },
      "source": [
        "### Extracting the independent and dependent variables, from the dataset"
      ]
    },
    {
      "cell_type": "code",
      "execution_count": 8,
      "metadata": {
        "id": "Qptf8PKG2UOJ"
      },
      "outputs": [],
      "source": [
        "X = data1.drop(axis=0,columns=\"TEY\").values\n",
        "Y = data1[\"TEY\"].values"
      ]
    },
    {
      "cell_type": "code",
      "execution_count": 9,
      "metadata": {
        "colab": {
          "base_uri": "https://localhost:8080/"
        },
        "id": "yd-E-PA-2UOJ",
        "outputId": "f2ed85e1-1c71-4c07-e673-3a7056b4b7b9"
      },
      "outputs": [
        {
          "output_type": "execute_result",
          "data": {
            "text/plain": [
              "array([[0.18418215, 0.45604964, 0.95131413, ..., 0.1353398 , 0.07152212,\n",
              "        0.59654817],\n",
              "       [0.18201978, 0.4663909 , 0.95588067, ..., 0.13398756, 0.07337235,\n",
              "        0.59713433],\n",
              "       [0.18529531, 0.47466391, 0.93900309, ..., 0.13456709, 0.07257648,\n",
              "        0.59379104],\n",
              "       ...,\n",
              "       [0.19596183, 0.4229576 , 0.98992213, ..., 0.11177221, 0.18055195,\n",
              "        0.68544912],\n",
              "       [0.18844295, 0.43329886, 0.98293633, ..., 0.12143106, 0.14169257,\n",
              "        0.71057802],\n",
              "       [0.18617304, 0.44157187, 0.96182146, ..., 0.1310899 , 0.11294597,\n",
              "        0.70266486]])"
            ]
          },
          "metadata": {},
          "execution_count": 9
        }
      ],
      "source": [
        "X"
      ]
    },
    {
      "cell_type": "code",
      "execution_count": 10,
      "metadata": {
        "colab": {
          "base_uri": "https://localhost:8080/"
        },
        "id": "fqgnz5gf2UOK",
        "outputId": "4aad3454-cd6c-4f4d-cea2-c4b22eff0f74"
      },
      "outputs": [
        {
          "output_type": "execute_result",
          "data": {
            "text/plain": [
              "array([0.19519076, 0.19545943, 0.19532509, ..., 0.13460505, 0.14199355,\n",
              "       0.15327781])"
            ]
          },
          "metadata": {},
          "execution_count": 10
        }
      ],
      "source": [
        "Y"
      ]
    },
    {
      "cell_type": "markdown",
      "metadata": {
        "id": "1ffGR8XC2UOK"
      },
      "source": [
        "### Fixing a random seed for ensuring that the algorithm produces the same accuracy by selecting a similar sample, everytime, it runs the code"
      ]
    },
    {
      "cell_type": "code",
      "execution_count": 11,
      "metadata": {
        "id": "VlKaYbX52UOL"
      },
      "outputs": [],
      "source": [
        "seed = 7\n",
        "np.random.seed(seed)"
      ]
    },
    {
      "cell_type": "markdown",
      "metadata": {
        "id": "G-9pwDLU2UOL"
      },
      "source": [
        "### Constructing a Sequential neural network with 12 neurons in the first input layer, 8 neurons in the hidden layer and 1 neuron in the output layer"
      ]
    },
    {
      "cell_type": "code",
      "execution_count": 12,
      "metadata": {
        "id": "sEgFO1gi2UOL"
      },
      "outputs": [],
      "source": [
        "model = Sequential()\n",
        "model.add(Dense(12, input_dim=10, kernel_initializer='uniform', activation='relu'))\n",
        "model.add(Dense(8, kernel_initializer='uniform', activation='relu'))\n",
        "model.add(Dense(1, kernel_initializer='uniform', activation='sigmoid'))"
      ]
    },
    {
      "cell_type": "markdown",
      "metadata": {
        "id": "Scz-2BYO2UOM"
      },
      "source": [
        "### Compiling the model and using Mean squared error as the loss function and adam as the weight optimizer"
      ]
    },
    {
      "cell_type": "code",
      "execution_count": 13,
      "metadata": {
        "id": "oRmZgrTl2UOM"
      },
      "outputs": [],
      "source": [
        "model.compile(loss='mse', optimizer='adam', metrics=['accuracy'])"
      ]
    },
    {
      "cell_type": "markdown",
      "metadata": {
        "id": "2rNM_JIQ2UOM"
      },
      "source": [
        "### Fitting the model"
      ]
    },
    {
      "cell_type": "code",
      "execution_count": 14,
      "metadata": {
        "colab": {
          "base_uri": "https://localhost:8080/"
        },
        "id": "7CsP-2w22UOM",
        "outputId": "0bf8e373-4259-4be8-f7b5-12b8c28a61ee"
      },
      "outputs": [
        {
          "output_type": "stream",
          "name": "stdout",
          "text": [
            "Epoch 1/100\n",
            "1008/1008 [==============================] - 3s 2ms/step - loss: 0.0188 - accuracy: 9.9246e-05 - val_loss: 0.0028 - val_accuracy: 2.0149e-04\n",
            "Epoch 2/100\n",
            "1008/1008 [==============================] - 2s 2ms/step - loss: 0.0042 - accuracy: 9.9246e-05 - val_loss: 0.0015 - val_accuracy: 2.0149e-04\n",
            "Epoch 3/100\n",
            "1008/1008 [==============================] - 2s 2ms/step - loss: 0.0018 - accuracy: 9.9246e-05 - val_loss: 5.7911e-04 - val_accuracy: 2.0149e-04\n",
            "Epoch 4/100\n",
            "1008/1008 [==============================] - 2s 2ms/step - loss: 8.5179e-04 - accuracy: 9.9246e-05 - val_loss: 3.5414e-04 - val_accuracy: 2.0149e-04\n",
            "Epoch 5/100\n",
            "1008/1008 [==============================] - 2s 2ms/step - loss: 4.8509e-04 - accuracy: 9.9246e-05 - val_loss: 2.6364e-04 - val_accuracy: 2.0149e-04\n",
            "Epoch 6/100\n",
            "1008/1008 [==============================] - 2s 2ms/step - loss: 3.5524e-04 - accuracy: 9.9246e-05 - val_loss: 2.5575e-04 - val_accuracy: 2.0149e-04\n",
            "Epoch 7/100\n",
            "1008/1008 [==============================] - 2s 2ms/step - loss: 2.9418e-04 - accuracy: 9.9246e-05 - val_loss: 2.3069e-04 - val_accuracy: 2.0149e-04\n",
            "Epoch 8/100\n",
            "1008/1008 [==============================] - 2s 2ms/step - loss: 2.5893e-04 - accuracy: 9.9246e-05 - val_loss: 2.4780e-04 - val_accuracy: 2.0149e-04\n",
            "Epoch 9/100\n",
            "1008/1008 [==============================] - 4s 4ms/step - loss: 2.3672e-04 - accuracy: 9.9246e-05 - val_loss: 1.9586e-04 - val_accuracy: 2.0149e-04\n",
            "Epoch 10/100\n",
            "1008/1008 [==============================] - 3s 3ms/step - loss: 2.2274e-04 - accuracy: 9.9246e-05 - val_loss: 1.8073e-04 - val_accuracy: 2.0149e-04\n",
            "Epoch 11/100\n",
            "1008/1008 [==============================] - 2s 2ms/step - loss: 2.1093e-04 - accuracy: 9.9246e-05 - val_loss: 1.9400e-04 - val_accuracy: 2.0149e-04\n",
            "Epoch 12/100\n",
            "1008/1008 [==============================] - 2s 2ms/step - loss: 2.0652e-04 - accuracy: 9.9246e-05 - val_loss: 1.7522e-04 - val_accuracy: 2.0149e-04\n",
            "Epoch 13/100\n",
            "1008/1008 [==============================] - 2s 2ms/step - loss: 2.0475e-04 - accuracy: 9.9246e-05 - val_loss: 1.8039e-04 - val_accuracy: 2.0149e-04\n",
            "Epoch 14/100\n",
            "1008/1008 [==============================] - 2s 2ms/step - loss: 1.9698e-04 - accuracy: 9.9246e-05 - val_loss: 2.0121e-04 - val_accuracy: 2.0149e-04\n",
            "Epoch 15/100\n",
            "1008/1008 [==============================] - 2s 2ms/step - loss: 1.9700e-04 - accuracy: 9.9246e-05 - val_loss: 1.8740e-04 - val_accuracy: 2.0149e-04\n",
            "Epoch 16/100\n",
            "1008/1008 [==============================] - 2s 2ms/step - loss: 1.9531e-04 - accuracy: 9.9246e-05 - val_loss: 1.6046e-04 - val_accuracy: 2.0149e-04\n",
            "Epoch 17/100\n",
            "1008/1008 [==============================] - 2s 2ms/step - loss: 1.9336e-04 - accuracy: 9.9246e-05 - val_loss: 1.6236e-04 - val_accuracy: 2.0149e-04\n",
            "Epoch 18/100\n",
            "1008/1008 [==============================] - 2s 2ms/step - loss: 1.9230e-04 - accuracy: 9.9246e-05 - val_loss: 1.6409e-04 - val_accuracy: 2.0149e-04\n",
            "Epoch 19/100\n",
            "1008/1008 [==============================] - 2s 2ms/step - loss: 1.9295e-04 - accuracy: 9.9246e-05 - val_loss: 1.7837e-04 - val_accuracy: 2.0149e-04\n",
            "Epoch 20/100\n",
            "1008/1008 [==============================] - 2s 2ms/step - loss: 1.9247e-04 - accuracy: 9.9246e-05 - val_loss: 1.4981e-04 - val_accuracy: 2.0149e-04\n",
            "Epoch 21/100\n",
            "1008/1008 [==============================] - 2s 2ms/step - loss: 1.8981e-04 - accuracy: 9.9246e-05 - val_loss: 1.5114e-04 - val_accuracy: 2.0149e-04\n",
            "Epoch 22/100\n",
            "1008/1008 [==============================] - 2s 2ms/step - loss: 1.9441e-04 - accuracy: 9.9246e-05 - val_loss: 1.6424e-04 - val_accuracy: 2.0149e-04\n",
            "Epoch 23/100\n",
            "1008/1008 [==============================] - 2s 2ms/step - loss: 1.9061e-04 - accuracy: 9.9246e-05 - val_loss: 1.5982e-04 - val_accuracy: 2.0149e-04\n",
            "Epoch 24/100\n",
            "1008/1008 [==============================] - 2s 2ms/step - loss: 1.8747e-04 - accuracy: 9.9246e-05 - val_loss: 1.9337e-04 - val_accuracy: 2.0149e-04\n",
            "Epoch 25/100\n",
            "1008/1008 [==============================] - 2s 2ms/step - loss: 1.8725e-04 - accuracy: 9.9246e-05 - val_loss: 1.5282e-04 - val_accuracy: 2.0149e-04\n",
            "Epoch 26/100\n",
            "1008/1008 [==============================] - 2s 2ms/step - loss: 1.8718e-04 - accuracy: 9.9246e-05 - val_loss: 1.8009e-04 - val_accuracy: 2.0149e-04\n",
            "Epoch 27/100\n",
            "1008/1008 [==============================] - 4s 4ms/step - loss: 1.8755e-04 - accuracy: 9.9246e-05 - val_loss: 1.6565e-04 - val_accuracy: 2.0149e-04\n",
            "Epoch 28/100\n",
            "1008/1008 [==============================] - 2s 2ms/step - loss: 1.8721e-04 - accuracy: 9.9246e-05 - val_loss: 1.6077e-04 - val_accuracy: 2.0149e-04\n",
            "Epoch 29/100\n",
            "1008/1008 [==============================] - 2s 2ms/step - loss: 1.8938e-04 - accuracy: 9.9246e-05 - val_loss: 1.4350e-04 - val_accuracy: 2.0149e-04\n",
            "Epoch 30/100\n",
            "1008/1008 [==============================] - 2s 2ms/step - loss: 1.8953e-04 - accuracy: 9.9246e-05 - val_loss: 1.7652e-04 - val_accuracy: 2.0149e-04\n",
            "Epoch 31/100\n",
            "1008/1008 [==============================] - 2s 2ms/step - loss: 1.8844e-04 - accuracy: 9.9246e-05 - val_loss: 1.5221e-04 - val_accuracy: 2.0149e-04\n",
            "Epoch 32/100\n",
            "1008/1008 [==============================] - 2s 2ms/step - loss: 1.8476e-04 - accuracy: 9.9246e-05 - val_loss: 1.7977e-04 - val_accuracy: 2.0149e-04\n",
            "Epoch 33/100\n",
            "1008/1008 [==============================] - 2s 2ms/step - loss: 1.8464e-04 - accuracy: 9.9246e-05 - val_loss: 1.9030e-04 - val_accuracy: 2.0149e-04\n",
            "Epoch 34/100\n",
            "1008/1008 [==============================] - 2s 2ms/step - loss: 1.8719e-04 - accuracy: 9.9246e-05 - val_loss: 1.5420e-04 - val_accuracy: 2.0149e-04\n",
            "Epoch 35/100\n",
            "1008/1008 [==============================] - 2s 2ms/step - loss: 1.8727e-04 - accuracy: 9.9246e-05 - val_loss: 1.4945e-04 - val_accuracy: 2.0149e-04\n",
            "Epoch 36/100\n",
            "1008/1008 [==============================] - 2s 2ms/step - loss: 1.8361e-04 - accuracy: 9.9246e-05 - val_loss: 1.6639e-04 - val_accuracy: 2.0149e-04\n",
            "Epoch 37/100\n",
            "1008/1008 [==============================] - 2s 2ms/step - loss: 1.8789e-04 - accuracy: 9.9246e-05 - val_loss: 1.4926e-04 - val_accuracy: 2.0149e-04\n",
            "Epoch 38/100\n",
            "1008/1008 [==============================] - 2s 2ms/step - loss: 1.8176e-04 - accuracy: 9.9246e-05 - val_loss: 1.4537e-04 - val_accuracy: 2.0149e-04\n",
            "Epoch 39/100\n",
            "1008/1008 [==============================] - 2s 2ms/step - loss: 1.8310e-04 - accuracy: 9.9246e-05 - val_loss: 1.6498e-04 - val_accuracy: 2.0149e-04\n",
            "Epoch 40/100\n",
            "1008/1008 [==============================] - 3s 3ms/step - loss: 1.8450e-04 - accuracy: 9.9246e-05 - val_loss: 1.4898e-04 - val_accuracy: 2.0149e-04\n",
            "Epoch 41/100\n",
            "1008/1008 [==============================] - 2s 2ms/step - loss: 1.8725e-04 - accuracy: 9.9246e-05 - val_loss: 1.5099e-04 - val_accuracy: 2.0149e-04\n",
            "Epoch 42/100\n",
            "1008/1008 [==============================] - 2s 2ms/step - loss: 1.8241e-04 - accuracy: 9.9246e-05 - val_loss: 1.6158e-04 - val_accuracy: 2.0149e-04\n",
            "Epoch 43/100\n",
            "1008/1008 [==============================] - 2s 2ms/step - loss: 1.8208e-04 - accuracy: 9.9246e-05 - val_loss: 1.6120e-04 - val_accuracy: 2.0149e-04\n",
            "Epoch 44/100\n",
            "1008/1008 [==============================] - 2s 2ms/step - loss: 1.8015e-04 - accuracy: 9.9246e-05 - val_loss: 2.0000e-04 - val_accuracy: 2.0149e-04\n",
            "Epoch 45/100\n",
            "1008/1008 [==============================] - 2s 2ms/step - loss: 1.8175e-04 - accuracy: 9.9246e-05 - val_loss: 1.7079e-04 - val_accuracy: 2.0149e-04\n",
            "Epoch 46/100\n",
            "1008/1008 [==============================] - 2s 2ms/step - loss: 1.8098e-04 - accuracy: 9.9246e-05 - val_loss: 1.6500e-04 - val_accuracy: 2.0149e-04\n",
            "Epoch 47/100\n",
            "1008/1008 [==============================] - 2s 2ms/step - loss: 1.8021e-04 - accuracy: 9.9246e-05 - val_loss: 2.1295e-04 - val_accuracy: 2.0149e-04\n",
            "Epoch 48/100\n",
            "1008/1008 [==============================] - 2s 2ms/step - loss: 1.8328e-04 - accuracy: 9.9246e-05 - val_loss: 1.3628e-04 - val_accuracy: 2.0149e-04\n",
            "Epoch 49/100\n",
            "1008/1008 [==============================] - 3s 3ms/step - loss: 1.8069e-04 - accuracy: 9.9246e-05 - val_loss: 1.4777e-04 - val_accuracy: 2.0149e-04\n",
            "Epoch 50/100\n",
            "1008/1008 [==============================] - 2s 2ms/step - loss: 1.8003e-04 - accuracy: 9.9246e-05 - val_loss: 1.5871e-04 - val_accuracy: 2.0149e-04\n",
            "Epoch 51/100\n",
            "1008/1008 [==============================] - 2s 2ms/step - loss: 1.7710e-04 - accuracy: 9.9246e-05 - val_loss: 1.5105e-04 - val_accuracy: 2.0149e-04\n",
            "Epoch 52/100\n",
            "1008/1008 [==============================] - 2s 2ms/step - loss: 1.7881e-04 - accuracy: 9.9246e-05 - val_loss: 1.5604e-04 - val_accuracy: 2.0149e-04\n",
            "Epoch 53/100\n",
            "1008/1008 [==============================] - 2s 2ms/step - loss: 1.7758e-04 - accuracy: 9.9246e-05 - val_loss: 1.4018e-04 - val_accuracy: 2.0149e-04\n",
            "Epoch 54/100\n",
            "1008/1008 [==============================] - 2s 2ms/step - loss: 1.7840e-04 - accuracy: 9.9246e-05 - val_loss: 1.6671e-04 - val_accuracy: 2.0149e-04\n",
            "Epoch 55/100\n",
            "1008/1008 [==============================] - 2s 2ms/step - loss: 1.7700e-04 - accuracy: 9.9246e-05 - val_loss: 1.6437e-04 - val_accuracy: 2.0149e-04\n",
            "Epoch 56/100\n",
            "1008/1008 [==============================] - 2s 2ms/step - loss: 1.7904e-04 - accuracy: 9.9246e-05 - val_loss: 1.4049e-04 - val_accuracy: 2.0149e-04\n",
            "Epoch 57/100\n",
            "1008/1008 [==============================] - 2s 2ms/step - loss: 1.7654e-04 - accuracy: 9.9246e-05 - val_loss: 1.4187e-04 - val_accuracy: 2.0149e-04\n",
            "Epoch 58/100\n",
            "1008/1008 [==============================] - 2s 2ms/step - loss: 1.7552e-04 - accuracy: 9.9246e-05 - val_loss: 1.5436e-04 - val_accuracy: 2.0149e-04\n",
            "Epoch 59/100\n",
            "1008/1008 [==============================] - 2s 2ms/step - loss: 1.7580e-04 - accuracy: 9.9246e-05 - val_loss: 2.2245e-04 - val_accuracy: 2.0149e-04\n",
            "Epoch 60/100\n",
            "1008/1008 [==============================] - 3s 3ms/step - loss: 1.7290e-04 - accuracy: 9.9246e-05 - val_loss: 1.4741e-04 - val_accuracy: 2.0149e-04\n",
            "Epoch 61/100\n",
            "1008/1008 [==============================] - 2s 2ms/step - loss: 1.7564e-04 - accuracy: 9.9246e-05 - val_loss: 1.7561e-04 - val_accuracy: 2.0149e-04\n",
            "Epoch 62/100\n",
            "1008/1008 [==============================] - 2s 2ms/step - loss: 1.7971e-04 - accuracy: 9.9246e-05 - val_loss: 2.7365e-04 - val_accuracy: 2.0149e-04\n",
            "Epoch 63/100\n",
            "1008/1008 [==============================] - 2s 2ms/step - loss: 1.7985e-04 - accuracy: 9.9246e-05 - val_loss: 1.4465e-04 - val_accuracy: 2.0149e-04\n",
            "Epoch 64/100\n",
            "1008/1008 [==============================] - 2s 2ms/step - loss: 1.7720e-04 - accuracy: 9.9246e-05 - val_loss: 1.3801e-04 - val_accuracy: 2.0149e-04\n",
            "Epoch 65/100\n",
            "1008/1008 [==============================] - 2s 2ms/step - loss: 1.7395e-04 - accuracy: 9.9246e-05 - val_loss: 1.8437e-04 - val_accuracy: 2.0149e-04\n",
            "Epoch 66/100\n",
            "1008/1008 [==============================] - 2s 2ms/step - loss: 1.7946e-04 - accuracy: 9.9246e-05 - val_loss: 1.2823e-04 - val_accuracy: 2.0149e-04\n",
            "Epoch 67/100\n",
            "1008/1008 [==============================] - 2s 2ms/step - loss: 1.7403e-04 - accuracy: 9.9246e-05 - val_loss: 2.0280e-04 - val_accuracy: 2.0149e-04\n",
            "Epoch 68/100\n",
            "1008/1008 [==============================] - 2s 2ms/step - loss: 1.7551e-04 - accuracy: 9.9246e-05 - val_loss: 1.5488e-04 - val_accuracy: 2.0149e-04\n",
            "Epoch 69/100\n",
            "1008/1008 [==============================] - 2s 2ms/step - loss: 1.7369e-04 - accuracy: 9.9246e-05 - val_loss: 1.4484e-04 - val_accuracy: 2.0149e-04\n",
            "Epoch 70/100\n",
            "1008/1008 [==============================] - 2s 2ms/step - loss: 1.7756e-04 - accuracy: 9.9246e-05 - val_loss: 1.6833e-04 - val_accuracy: 2.0149e-04\n",
            "Epoch 71/100\n",
            "1008/1008 [==============================] - 2s 2ms/step - loss: 1.7516e-04 - accuracy: 9.9246e-05 - val_loss: 1.2626e-04 - val_accuracy: 2.0149e-04\n",
            "Epoch 72/100\n",
            "1008/1008 [==============================] - 2s 2ms/step - loss: 1.7375e-04 - accuracy: 9.9246e-05 - val_loss: 1.4721e-04 - val_accuracy: 2.0149e-04\n",
            "Epoch 73/100\n",
            "1008/1008 [==============================] - 2s 2ms/step - loss: 1.7350e-04 - accuracy: 9.9246e-05 - val_loss: 1.8279e-04 - val_accuracy: 2.0149e-04\n",
            "Epoch 74/100\n",
            "1008/1008 [==============================] - 2s 2ms/step - loss: 1.7618e-04 - accuracy: 9.9246e-05 - val_loss: 1.4575e-04 - val_accuracy: 2.0149e-04\n",
            "Epoch 75/100\n",
            "1008/1008 [==============================] - 2s 2ms/step - loss: 1.7589e-04 - accuracy: 9.9246e-05 - val_loss: 1.6751e-04 - val_accuracy: 2.0149e-04\n",
            "Epoch 76/100\n",
            "1008/1008 [==============================] - 2s 2ms/step - loss: 1.7655e-04 - accuracy: 9.9246e-05 - val_loss: 1.4470e-04 - val_accuracy: 2.0149e-04\n",
            "Epoch 77/100\n",
            "1008/1008 [==============================] - 2s 2ms/step - loss: 1.7599e-04 - accuracy: 9.9246e-05 - val_loss: 1.5839e-04 - val_accuracy: 2.0149e-04\n",
            "Epoch 78/100\n",
            "1008/1008 [==============================] - 2s 2ms/step - loss: 1.7235e-04 - accuracy: 9.9246e-05 - val_loss: 1.6109e-04 - val_accuracy: 2.0149e-04\n",
            "Epoch 79/100\n",
            "1008/1008 [==============================] - 2s 2ms/step - loss: 1.7536e-04 - accuracy: 9.9246e-05 - val_loss: 1.4753e-04 - val_accuracy: 2.0149e-04\n",
            "Epoch 80/100\n",
            "1008/1008 [==============================] - 2s 2ms/step - loss: 1.7511e-04 - accuracy: 9.9246e-05 - val_loss: 1.7223e-04 - val_accuracy: 2.0149e-04\n",
            "Epoch 81/100\n",
            "1008/1008 [==============================] - 2s 2ms/step - loss: 1.7601e-04 - accuracy: 9.9246e-05 - val_loss: 1.5395e-04 - val_accuracy: 2.0149e-04\n",
            "Epoch 82/100\n",
            "1008/1008 [==============================] - 2s 2ms/step - loss: 1.7356e-04 - accuracy: 9.9246e-05 - val_loss: 1.4587e-04 - val_accuracy: 2.0149e-04\n",
            "Epoch 83/100\n",
            "1008/1008 [==============================] - 2s 2ms/step - loss: 1.7732e-04 - accuracy: 9.9246e-05 - val_loss: 1.4586e-04 - val_accuracy: 2.0149e-04\n",
            "Epoch 84/100\n",
            "1008/1008 [==============================] - 2s 2ms/step - loss: 1.7642e-04 - accuracy: 9.9246e-05 - val_loss: 1.6553e-04 - val_accuracy: 2.0149e-04\n",
            "Epoch 85/100\n",
            "1008/1008 [==============================] - 2s 2ms/step - loss: 1.7282e-04 - accuracy: 9.9246e-05 - val_loss: 1.5394e-04 - val_accuracy: 2.0149e-04\n",
            "Epoch 86/100\n",
            "1008/1008 [==============================] - 2s 2ms/step - loss: 1.7363e-04 - accuracy: 9.9246e-05 - val_loss: 1.6521e-04 - val_accuracy: 2.0149e-04\n",
            "Epoch 87/100\n",
            "1008/1008 [==============================] - 2s 2ms/step - loss: 1.7747e-04 - accuracy: 9.9246e-05 - val_loss: 1.5453e-04 - val_accuracy: 2.0149e-04\n",
            "Epoch 88/100\n",
            "1008/1008 [==============================] - 2s 2ms/step - loss: 1.7510e-04 - accuracy: 9.9246e-05 - val_loss: 1.5471e-04 - val_accuracy: 2.0149e-04\n",
            "Epoch 89/100\n",
            "1008/1008 [==============================] - 2s 2ms/step - loss: 1.7245e-04 - accuracy: 9.9246e-05 - val_loss: 1.4015e-04 - val_accuracy: 2.0149e-04\n",
            "Epoch 90/100\n",
            "1008/1008 [==============================] - 3s 3ms/step - loss: 1.7424e-04 - accuracy: 9.9246e-05 - val_loss: 1.5780e-04 - val_accuracy: 2.0149e-04\n",
            "Epoch 91/100\n",
            "1008/1008 [==============================] - 2s 2ms/step - loss: 1.7374e-04 - accuracy: 9.9246e-05 - val_loss: 1.6711e-04 - val_accuracy: 2.0149e-04\n",
            "Epoch 92/100\n",
            "1008/1008 [==============================] - 2s 2ms/step - loss: 1.7677e-04 - accuracy: 9.9246e-05 - val_loss: 1.4986e-04 - val_accuracy: 2.0149e-04\n",
            "Epoch 93/100\n",
            "1008/1008 [==============================] - 2s 2ms/step - loss: 1.7322e-04 - accuracy: 9.9246e-05 - val_loss: 1.3721e-04 - val_accuracy: 2.0149e-04\n",
            "Epoch 94/100\n",
            "1008/1008 [==============================] - 2s 2ms/step - loss: 1.7379e-04 - accuracy: 9.9246e-05 - val_loss: 1.6905e-04 - val_accuracy: 2.0149e-04\n",
            "Epoch 95/100\n",
            "1008/1008 [==============================] - 2s 2ms/step - loss: 1.7319e-04 - accuracy: 9.9246e-05 - val_loss: 1.4775e-04 - val_accuracy: 2.0149e-04\n",
            "Epoch 96/100\n",
            "1008/1008 [==============================] - 2s 2ms/step - loss: 1.7543e-04 - accuracy: 9.9246e-05 - val_loss: 1.5762e-04 - val_accuracy: 2.0149e-04\n",
            "Epoch 97/100\n",
            "1008/1008 [==============================] - 2s 2ms/step - loss: 1.7330e-04 - accuracy: 9.9246e-05 - val_loss: 1.4290e-04 - val_accuracy: 2.0149e-04\n",
            "Epoch 98/100\n",
            "1008/1008 [==============================] - 2s 2ms/step - loss: 1.7172e-04 - accuracy: 9.9246e-05 - val_loss: 1.4359e-04 - val_accuracy: 2.0149e-04\n",
            "Epoch 99/100\n",
            "1008/1008 [==============================] - 2s 2ms/step - loss: 1.7270e-04 - accuracy: 9.9246e-05 - val_loss: 1.5264e-04 - val_accuracy: 2.0149e-04\n",
            "Epoch 100/100\n",
            "1008/1008 [==============================] - 2s 2ms/step - loss: 1.7379e-04 - accuracy: 9.9246e-05 - val_loss: 1.5092e-04 - val_accuracy: 2.0149e-04\n"
          ]
        },
        {
          "output_type": "execute_result",
          "data": {
            "text/plain": [
              "<keras.callbacks.History at 0x7f13d2917090>"
            ]
          },
          "metadata": {},
          "execution_count": 14
        }
      ],
      "source": [
        "model.fit(X, Y, validation_split=0.33, epochs=100, batch_size=10)"
      ]
    },
    {
      "cell_type": "markdown",
      "metadata": {
        "id": "xmALMKHq2UON"
      },
      "source": [
        "### Evaluation of the model"
      ]
    },
    {
      "cell_type": "code",
      "execution_count": 15,
      "metadata": {
        "colab": {
          "base_uri": "https://localhost:8080/"
        },
        "id": "KLmj4W9u2UON",
        "outputId": "eddce83b-b282-4ba1-d4ad-7f2249939995"
      },
      "outputs": [
        {
          "output_type": "stream",
          "name": "stdout",
          "text": [
            "470/470 [==============================] - 1s 1ms/step - loss: 1.5685e-04 - accuracy: 1.3299e-04\n",
            "accuracy: 0.01%\n"
          ]
        }
      ],
      "source": [
        "scores = model.evaluate(X, Y)\n",
        "print(\"%s: %.2f%%\" % (model.metrics_names[1], scores[1]*100))"
      ]
    },
    {
      "cell_type": "code",
      "execution_count": 16,
      "metadata": {
        "colab": {
          "base_uri": "https://localhost:8080/"
        },
        "id": "WinrPcdj2UOO",
        "outputId": "73763a25-2e52-4309-f8a1-e1b3243e6f41"
      },
      "outputs": [
        {
          "output_type": "stream",
          "name": "stdout",
          "text": [
            "Epoch 1/100\n",
            "1008/1008 [==============================] - 2s 2ms/step - loss: 1.7789e-04 - accuracy: 9.9246e-05 - val_loss: 1.7155e-04 - val_accuracy: 2.0149e-04\n",
            "Epoch 2/100\n",
            "1008/1008 [==============================] - 2s 2ms/step - loss: 1.7385e-04 - accuracy: 9.9246e-05 - val_loss: 1.3139e-04 - val_accuracy: 2.0149e-04\n",
            "Epoch 3/100\n",
            "1008/1008 [==============================] - 2s 2ms/step - loss: 1.7611e-04 - accuracy: 9.9246e-05 - val_loss: 1.5763e-04 - val_accuracy: 2.0149e-04\n",
            "Epoch 4/100\n",
            "1008/1008 [==============================] - 2s 2ms/step - loss: 1.7444e-04 - accuracy: 9.9246e-05 - val_loss: 1.5765e-04 - val_accuracy: 2.0149e-04\n",
            "Epoch 5/100\n",
            "1008/1008 [==============================] - 2s 2ms/step - loss: 1.7098e-04 - accuracy: 9.9246e-05 - val_loss: 1.4391e-04 - val_accuracy: 2.0149e-04\n",
            "Epoch 6/100\n",
            "1008/1008 [==============================] - 2s 2ms/step - loss: 1.7342e-04 - accuracy: 9.9246e-05 - val_loss: 1.4666e-04 - val_accuracy: 2.0149e-04\n",
            "Epoch 7/100\n",
            "1008/1008 [==============================] - 2s 2ms/step - loss: 1.7515e-04 - accuracy: 9.9246e-05 - val_loss: 1.4318e-04 - val_accuracy: 2.0149e-04\n",
            "Epoch 8/100\n",
            "1008/1008 [==============================] - 2s 2ms/step - loss: 1.7126e-04 - accuracy: 9.9246e-05 - val_loss: 1.6848e-04 - val_accuracy: 2.0149e-04\n",
            "Epoch 9/100\n",
            "1008/1008 [==============================] - 2s 2ms/step - loss: 1.7228e-04 - accuracy: 9.9246e-05 - val_loss: 1.3971e-04 - val_accuracy: 2.0149e-04\n",
            "Epoch 10/100\n",
            "1008/1008 [==============================] - 2s 2ms/step - loss: 1.7374e-04 - accuracy: 9.9246e-05 - val_loss: 1.4390e-04 - val_accuracy: 2.0149e-04\n",
            "Epoch 11/100\n",
            "1008/1008 [==============================] - 2s 2ms/step - loss: 1.7569e-04 - accuracy: 9.9246e-05 - val_loss: 1.5338e-04 - val_accuracy: 2.0149e-04\n",
            "Epoch 12/100\n",
            "1008/1008 [==============================] - 2s 2ms/step - loss: 1.7462e-04 - accuracy: 9.9246e-05 - val_loss: 1.5414e-04 - val_accuracy: 2.0149e-04\n",
            "Epoch 13/100\n",
            "1008/1008 [==============================] - 2s 2ms/step - loss: 1.7134e-04 - accuracy: 9.9246e-05 - val_loss: 1.5302e-04 - val_accuracy: 2.0149e-04\n",
            "Epoch 14/100\n",
            "1008/1008 [==============================] - 2s 2ms/step - loss: 1.7220e-04 - accuracy: 9.9246e-05 - val_loss: 1.6300e-04 - val_accuracy: 2.0149e-04\n",
            "Epoch 15/100\n",
            "1008/1008 [==============================] - 2s 2ms/step - loss: 1.7184e-04 - accuracy: 9.9246e-05 - val_loss: 1.4919e-04 - val_accuracy: 2.0149e-04\n",
            "Epoch 16/100\n",
            "1008/1008 [==============================] - 2s 2ms/step - loss: 1.7496e-04 - accuracy: 9.9246e-05 - val_loss: 1.6283e-04 - val_accuracy: 2.0149e-04\n",
            "Epoch 17/100\n",
            "1008/1008 [==============================] - 2s 2ms/step - loss: 1.7328e-04 - accuracy: 9.9246e-05 - val_loss: 1.4456e-04 - val_accuracy: 2.0149e-04\n",
            "Epoch 18/100\n",
            "1008/1008 [==============================] - 2s 2ms/step - loss: 1.6947e-04 - accuracy: 9.9246e-05 - val_loss: 1.4761e-04 - val_accuracy: 2.0149e-04\n",
            "Epoch 19/100\n",
            "1008/1008 [==============================] - 2s 2ms/step - loss: 1.7385e-04 - accuracy: 9.9246e-05 - val_loss: 1.7309e-04 - val_accuracy: 2.0149e-04\n",
            "Epoch 20/100\n",
            "1008/1008 [==============================] - 2s 2ms/step - loss: 1.7179e-04 - accuracy: 9.9246e-05 - val_loss: 1.6136e-04 - val_accuracy: 2.0149e-04\n",
            "Epoch 21/100\n",
            "1008/1008 [==============================] - 2s 2ms/step - loss: 1.7168e-04 - accuracy: 9.9246e-05 - val_loss: 1.8956e-04 - val_accuracy: 2.0149e-04\n",
            "Epoch 22/100\n",
            "1008/1008 [==============================] - 2s 2ms/step - loss: 1.7116e-04 - accuracy: 9.9246e-05 - val_loss: 2.0356e-04 - val_accuracy: 2.0149e-04\n",
            "Epoch 23/100\n",
            "1008/1008 [==============================] - 2s 2ms/step - loss: 1.7226e-04 - accuracy: 9.9246e-05 - val_loss: 2.0526e-04 - val_accuracy: 2.0149e-04\n",
            "Epoch 24/100\n",
            "1008/1008 [==============================] - 2s 2ms/step - loss: 1.7606e-04 - accuracy: 9.9246e-05 - val_loss: 1.5308e-04 - val_accuracy: 2.0149e-04\n",
            "Epoch 25/100\n",
            "1008/1008 [==============================] - 2s 2ms/step - loss: 1.7150e-04 - accuracy: 9.9246e-05 - val_loss: 1.4504e-04 - val_accuracy: 2.0149e-04\n",
            "Epoch 26/100\n",
            "1008/1008 [==============================] - 2s 2ms/step - loss: 1.7330e-04 - accuracy: 9.9246e-05 - val_loss: 1.7114e-04 - val_accuracy: 2.0149e-04\n",
            "Epoch 27/100\n",
            "1008/1008 [==============================] - 2s 2ms/step - loss: 1.7237e-04 - accuracy: 9.9246e-05 - val_loss: 1.4699e-04 - val_accuracy: 2.0149e-04\n",
            "Epoch 28/100\n",
            "1008/1008 [==============================] - 2s 2ms/step - loss: 1.7139e-04 - accuracy: 9.9246e-05 - val_loss: 1.5646e-04 - val_accuracy: 2.0149e-04\n",
            "Epoch 29/100\n",
            "1008/1008 [==============================] - 2s 2ms/step - loss: 1.7203e-04 - accuracy: 9.9246e-05 - val_loss: 1.5963e-04 - val_accuracy: 2.0149e-04\n",
            "Epoch 30/100\n",
            "1008/1008 [==============================] - 2s 2ms/step - loss: 1.7448e-04 - accuracy: 9.9246e-05 - val_loss: 1.5769e-04 - val_accuracy: 2.0149e-04\n",
            "Epoch 31/100\n",
            "1008/1008 [==============================] - 2s 2ms/step - loss: 1.7316e-04 - accuracy: 9.9246e-05 - val_loss: 1.3223e-04 - val_accuracy: 2.0149e-04\n",
            "Epoch 32/100\n",
            "1008/1008 [==============================] - 2s 2ms/step - loss: 1.7187e-04 - accuracy: 9.9246e-05 - val_loss: 1.4031e-04 - val_accuracy: 2.0149e-04\n",
            "Epoch 33/100\n",
            "1008/1008 [==============================] - 2s 2ms/step - loss: 1.7254e-04 - accuracy: 9.9246e-05 - val_loss: 1.7473e-04 - val_accuracy: 2.0149e-04\n",
            "Epoch 34/100\n",
            "1008/1008 [==============================] - 2s 2ms/step - loss: 1.7099e-04 - accuracy: 9.9246e-05 - val_loss: 1.5317e-04 - val_accuracy: 2.0149e-04\n",
            "Epoch 35/100\n",
            "1008/1008 [==============================] - 2s 2ms/step - loss: 1.7180e-04 - accuracy: 9.9246e-05 - val_loss: 1.3728e-04 - val_accuracy: 2.0149e-04\n",
            "Epoch 36/100\n",
            "1008/1008 [==============================] - 2s 2ms/step - loss: 1.7343e-04 - accuracy: 9.9246e-05 - val_loss: 2.1004e-04 - val_accuracy: 2.0149e-04\n",
            "Epoch 37/100\n",
            "1008/1008 [==============================] - 2s 2ms/step - loss: 1.7278e-04 - accuracy: 9.9246e-05 - val_loss: 1.7689e-04 - val_accuracy: 2.0149e-04\n",
            "Epoch 38/100\n",
            "1008/1008 [==============================] - 2s 2ms/step - loss: 1.7474e-04 - accuracy: 9.9246e-05 - val_loss: 1.6722e-04 - val_accuracy: 2.0149e-04\n",
            "Epoch 39/100\n",
            "1008/1008 [==============================] - 2s 2ms/step - loss: 1.6920e-04 - accuracy: 9.9246e-05 - val_loss: 1.4471e-04 - val_accuracy: 2.0149e-04\n",
            "Epoch 40/100\n",
            "1008/1008 [==============================] - 2s 2ms/step - loss: 1.7299e-04 - accuracy: 9.9246e-05 - val_loss: 1.5047e-04 - val_accuracy: 2.0149e-04\n",
            "Epoch 41/100\n",
            "1008/1008 [==============================] - 2s 2ms/step - loss: 1.7241e-04 - accuracy: 9.9246e-05 - val_loss: 1.2866e-04 - val_accuracy: 2.0149e-04\n",
            "Epoch 42/100\n",
            "1008/1008 [==============================] - 2s 2ms/step - loss: 1.7332e-04 - accuracy: 9.9246e-05 - val_loss: 1.5661e-04 - val_accuracy: 2.0149e-04\n",
            "Epoch 43/100\n",
            "1008/1008 [==============================] - 2s 2ms/step - loss: 1.7436e-04 - accuracy: 9.9246e-05 - val_loss: 1.3976e-04 - val_accuracy: 2.0149e-04\n",
            "Epoch 44/100\n",
            "1008/1008 [==============================] - 2s 2ms/step - loss: 1.7369e-04 - accuracy: 9.9246e-05 - val_loss: 1.3602e-04 - val_accuracy: 2.0149e-04\n",
            "Epoch 45/100\n",
            "1008/1008 [==============================] - 2s 2ms/step - loss: 1.7183e-04 - accuracy: 9.9246e-05 - val_loss: 1.7571e-04 - val_accuracy: 2.0149e-04\n",
            "Epoch 46/100\n",
            "1008/1008 [==============================] - 2s 2ms/step - loss: 1.7444e-04 - accuracy: 9.9246e-05 - val_loss: 1.6784e-04 - val_accuracy: 2.0149e-04\n",
            "Epoch 47/100\n",
            "1008/1008 [==============================] - 2s 2ms/step - loss: 1.7255e-04 - accuracy: 9.9246e-05 - val_loss: 2.1310e-04 - val_accuracy: 2.0149e-04\n",
            "Epoch 48/100\n",
            "1008/1008 [==============================] - 2s 2ms/step - loss: 1.7358e-04 - accuracy: 9.9246e-05 - val_loss: 1.7042e-04 - val_accuracy: 2.0149e-04\n",
            "Epoch 49/100\n",
            "1008/1008 [==============================] - 2s 2ms/step - loss: 1.7087e-04 - accuracy: 9.9246e-05 - val_loss: 1.4203e-04 - val_accuracy: 2.0149e-04\n",
            "Epoch 50/100\n",
            "1008/1008 [==============================] - 2s 2ms/step - loss: 1.7386e-04 - accuracy: 9.9246e-05 - val_loss: 1.6214e-04 - val_accuracy: 2.0149e-04\n",
            "Epoch 51/100\n",
            "1008/1008 [==============================] - 2s 2ms/step - loss: 1.7081e-04 - accuracy: 9.9246e-05 - val_loss: 1.5082e-04 - val_accuracy: 2.0149e-04\n",
            "Epoch 52/100\n",
            "1008/1008 [==============================] - 2s 2ms/step - loss: 1.7420e-04 - accuracy: 9.9246e-05 - val_loss: 1.5867e-04 - val_accuracy: 2.0149e-04\n",
            "Epoch 53/100\n",
            "1008/1008 [==============================] - 2s 2ms/step - loss: 1.7141e-04 - accuracy: 9.9246e-05 - val_loss: 1.8483e-04 - val_accuracy: 2.0149e-04\n",
            "Epoch 54/100\n",
            "1008/1008 [==============================] - 2s 2ms/step - loss: 1.7198e-04 - accuracy: 9.9246e-05 - val_loss: 1.5246e-04 - val_accuracy: 2.0149e-04\n",
            "Epoch 55/100\n",
            "1008/1008 [==============================] - 2s 2ms/step - loss: 1.7130e-04 - accuracy: 9.9246e-05 - val_loss: 1.4387e-04 - val_accuracy: 2.0149e-04\n",
            "Epoch 56/100\n",
            "1008/1008 [==============================] - 2s 2ms/step - loss: 1.7156e-04 - accuracy: 9.9246e-05 - val_loss: 1.8172e-04 - val_accuracy: 2.0149e-04\n",
            "Epoch 57/100\n",
            "1008/1008 [==============================] - 2s 2ms/step - loss: 1.7155e-04 - accuracy: 9.9246e-05 - val_loss: 1.4535e-04 - val_accuracy: 2.0149e-04\n",
            "Epoch 58/100\n",
            "1008/1008 [==============================] - 2s 2ms/step - loss: 1.7315e-04 - accuracy: 9.9246e-05 - val_loss: 1.4992e-04 - val_accuracy: 2.0149e-04\n",
            "Epoch 59/100\n",
            "1008/1008 [==============================] - 2s 2ms/step - loss: 1.7286e-04 - accuracy: 9.9246e-05 - val_loss: 1.4899e-04 - val_accuracy: 2.0149e-04\n",
            "Epoch 60/100\n",
            "1008/1008 [==============================] - 2s 2ms/step - loss: 1.7150e-04 - accuracy: 9.9246e-05 - val_loss: 1.2668e-04 - val_accuracy: 2.0149e-04\n",
            "Epoch 61/100\n",
            "1008/1008 [==============================] - 2s 2ms/step - loss: 1.7091e-04 - accuracy: 9.9246e-05 - val_loss: 1.7232e-04 - val_accuracy: 2.0149e-04\n",
            "Epoch 62/100\n",
            "1008/1008 [==============================] - 2s 2ms/step - loss: 1.7149e-04 - accuracy: 9.9246e-05 - val_loss: 1.4536e-04 - val_accuracy: 2.0149e-04\n",
            "Epoch 63/100\n",
            "1008/1008 [==============================] - 2s 2ms/step - loss: 1.7178e-04 - accuracy: 9.9246e-05 - val_loss: 1.6643e-04 - val_accuracy: 2.0149e-04\n",
            "Epoch 64/100\n",
            "1008/1008 [==============================] - 2s 2ms/step - loss: 1.7094e-04 - accuracy: 9.9246e-05 - val_loss: 1.3502e-04 - val_accuracy: 2.0149e-04\n",
            "Epoch 65/100\n",
            "1008/1008 [==============================] - 2s 2ms/step - loss: 1.7015e-04 - accuracy: 9.9246e-05 - val_loss: 1.6689e-04 - val_accuracy: 2.0149e-04\n",
            "Epoch 66/100\n",
            "1008/1008 [==============================] - 2s 2ms/step - loss: 1.7408e-04 - accuracy: 9.9246e-05 - val_loss: 1.5250e-04 - val_accuracy: 2.0149e-04\n",
            "Epoch 67/100\n",
            "1008/1008 [==============================] - 2s 2ms/step - loss: 1.7052e-04 - accuracy: 9.9246e-05 - val_loss: 1.9695e-04 - val_accuracy: 2.0149e-04\n",
            "Epoch 68/100\n",
            "1008/1008 [==============================] - 2s 2ms/step - loss: 1.7191e-04 - accuracy: 9.9246e-05 - val_loss: 1.6593e-04 - val_accuracy: 2.0149e-04\n",
            "Epoch 69/100\n",
            "1008/1008 [==============================] - 2s 2ms/step - loss: 1.6977e-04 - accuracy: 9.9246e-05 - val_loss: 1.5704e-04 - val_accuracy: 2.0149e-04\n",
            "Epoch 70/100\n",
            "1008/1008 [==============================] - 2s 2ms/step - loss: 1.7061e-04 - accuracy: 9.9246e-05 - val_loss: 1.2868e-04 - val_accuracy: 2.0149e-04\n",
            "Epoch 71/100\n",
            "1008/1008 [==============================] - 2s 2ms/step - loss: 1.7059e-04 - accuracy: 9.9246e-05 - val_loss: 1.4704e-04 - val_accuracy: 2.0149e-04\n",
            "Epoch 72/100\n",
            "1008/1008 [==============================] - 2s 2ms/step - loss: 1.7252e-04 - accuracy: 9.9246e-05 - val_loss: 1.4474e-04 - val_accuracy: 2.0149e-04\n",
            "Epoch 73/100\n",
            "1008/1008 [==============================] - 3s 3ms/step - loss: 1.6874e-04 - accuracy: 9.9246e-05 - val_loss: 1.4716e-04 - val_accuracy: 2.0149e-04\n",
            "Epoch 74/100\n",
            "1008/1008 [==============================] - 2s 2ms/step - loss: 1.7391e-04 - accuracy: 9.9246e-05 - val_loss: 1.5552e-04 - val_accuracy: 2.0149e-04\n",
            "Epoch 75/100\n",
            "1008/1008 [==============================] - 2s 2ms/step - loss: 1.6795e-04 - accuracy: 9.9246e-05 - val_loss: 1.7753e-04 - val_accuracy: 2.0149e-04\n",
            "Epoch 76/100\n",
            "1008/1008 [==============================] - 2s 2ms/step - loss: 1.7344e-04 - accuracy: 9.9246e-05 - val_loss: 1.5158e-04 - val_accuracy: 2.0149e-04\n",
            "Epoch 77/100\n",
            "1008/1008 [==============================] - 2s 2ms/step - loss: 1.7152e-04 - accuracy: 9.9246e-05 - val_loss: 1.5369e-04 - val_accuracy: 2.0149e-04\n",
            "Epoch 78/100\n",
            "1008/1008 [==============================] - 2s 2ms/step - loss: 1.7262e-04 - accuracy: 9.9246e-05 - val_loss: 1.7457e-04 - val_accuracy: 2.0149e-04\n",
            "Epoch 79/100\n",
            "1008/1008 [==============================] - 2s 2ms/step - loss: 1.7007e-04 - accuracy: 9.9246e-05 - val_loss: 1.6221e-04 - val_accuracy: 2.0149e-04\n",
            "Epoch 80/100\n",
            "1008/1008 [==============================] - 2s 2ms/step - loss: 1.6923e-04 - accuracy: 9.9246e-05 - val_loss: 2.0017e-04 - val_accuracy: 2.0149e-04\n",
            "Epoch 81/100\n",
            "1008/1008 [==============================] - 2s 2ms/step - loss: 1.7182e-04 - accuracy: 9.9246e-05 - val_loss: 1.4532e-04 - val_accuracy: 2.0149e-04\n",
            "Epoch 82/100\n",
            "1008/1008 [==============================] - 2s 2ms/step - loss: 1.6927e-04 - accuracy: 9.9246e-05 - val_loss: 1.2960e-04 - val_accuracy: 2.0149e-04\n",
            "Epoch 83/100\n",
            "1008/1008 [==============================] - 2s 2ms/step - loss: 1.7071e-04 - accuracy: 9.9246e-05 - val_loss: 1.9156e-04 - val_accuracy: 2.0149e-04\n",
            "Epoch 84/100\n",
            "1008/1008 [==============================] - 2s 2ms/step - loss: 1.6850e-04 - accuracy: 9.9246e-05 - val_loss: 1.7471e-04 - val_accuracy: 2.0149e-04\n",
            "Epoch 85/100\n",
            "1008/1008 [==============================] - 2s 2ms/step - loss: 1.7066e-04 - accuracy: 9.9246e-05 - val_loss: 1.7180e-04 - val_accuracy: 2.0149e-04\n",
            "Epoch 86/100\n",
            "1008/1008 [==============================] - 2s 2ms/step - loss: 1.7205e-04 - accuracy: 9.9246e-05 - val_loss: 1.8210e-04 - val_accuracy: 2.0149e-04\n",
            "Epoch 87/100\n",
            "1008/1008 [==============================] - 2s 2ms/step - loss: 1.6908e-04 - accuracy: 9.9246e-05 - val_loss: 1.4663e-04 - val_accuracy: 2.0149e-04\n",
            "Epoch 88/100\n",
            "1008/1008 [==============================] - 2s 2ms/step - loss: 1.7059e-04 - accuracy: 9.9246e-05 - val_loss: 1.5864e-04 - val_accuracy: 2.0149e-04\n",
            "Epoch 89/100\n",
            "1008/1008 [==============================] - 2s 2ms/step - loss: 1.7040e-04 - accuracy: 9.9246e-05 - val_loss: 1.6943e-04 - val_accuracy: 2.0149e-04\n",
            "Epoch 90/100\n",
            "1008/1008 [==============================] - 2s 2ms/step - loss: 1.7174e-04 - accuracy: 9.9246e-05 - val_loss: 2.1036e-04 - val_accuracy: 2.0149e-04\n",
            "Epoch 91/100\n",
            "1008/1008 [==============================] - 2s 2ms/step - loss: 1.7041e-04 - accuracy: 9.9246e-05 - val_loss: 1.3887e-04 - val_accuracy: 2.0149e-04\n",
            "Epoch 92/100\n",
            "1008/1008 [==============================] - 2s 2ms/step - loss: 1.6866e-04 - accuracy: 9.9246e-05 - val_loss: 1.3361e-04 - val_accuracy: 2.0149e-04\n",
            "Epoch 93/100\n",
            "1008/1008 [==============================] - 2s 2ms/step - loss: 1.7184e-04 - accuracy: 9.9246e-05 - val_loss: 1.4791e-04 - val_accuracy: 2.0149e-04\n",
            "Epoch 94/100\n",
            "1008/1008 [==============================] - 2s 2ms/step - loss: 1.7384e-04 - accuracy: 9.9246e-05 - val_loss: 2.0168e-04 - val_accuracy: 2.0149e-04\n",
            "Epoch 95/100\n",
            "1008/1008 [==============================] - 2s 2ms/step - loss: 1.7093e-04 - accuracy: 9.9246e-05 - val_loss: 1.3816e-04 - val_accuracy: 2.0149e-04\n",
            "Epoch 96/100\n",
            "1008/1008 [==============================] - 2s 2ms/step - loss: 1.6886e-04 - accuracy: 9.9246e-05 - val_loss: 1.6388e-04 - val_accuracy: 2.0149e-04\n",
            "Epoch 97/100\n",
            "1008/1008 [==============================] - 2s 2ms/step - loss: 1.7048e-04 - accuracy: 9.9246e-05 - val_loss: 1.6439e-04 - val_accuracy: 2.0149e-04\n",
            "Epoch 98/100\n",
            "1008/1008 [==============================] - 2s 2ms/step - loss: 1.6957e-04 - accuracy: 9.9246e-05 - val_loss: 1.4117e-04 - val_accuracy: 2.0149e-04\n",
            "Epoch 99/100\n",
            "1008/1008 [==============================] - 2s 2ms/step - loss: 1.7154e-04 - accuracy: 9.9246e-05 - val_loss: 1.7702e-04 - val_accuracy: 2.0149e-04\n",
            "Epoch 100/100\n",
            "1008/1008 [==============================] - 2s 2ms/step - loss: 1.7027e-04 - accuracy: 9.9246e-05 - val_loss: 1.5160e-04 - val_accuracy: 2.0149e-04\n"
          ]
        }
      ],
      "source": [
        "history = model.fit(X, Y, validation_split=0.33, epochs=100, batch_size=10)"
      ]
    },
    {
      "cell_type": "markdown",
      "metadata": {
        "id": "vYaxi-or2UOO"
      },
      "source": [
        "### List all the evaulation metric in built model (history)"
      ]
    },
    {
      "cell_type": "code",
      "execution_count": 17,
      "metadata": {
        "colab": {
          "base_uri": "https://localhost:8080/"
        },
        "id": "gDKwigkm2UOO",
        "outputId": "c39c6fb9-9fa6-48fc-e490-3202209b2471"
      },
      "outputs": [
        {
          "output_type": "execute_result",
          "data": {
            "text/plain": [
              "dict_keys(['loss', 'accuracy', 'val_loss', 'val_accuracy'])"
            ]
          },
          "metadata": {},
          "execution_count": 17
        }
      ],
      "source": [
        "model.history.history.keys()"
      ]
    },
    {
      "cell_type": "markdown",
      "metadata": {
        "id": "qj4lS_vc2UOP"
      },
      "source": [
        "### Visualising the model history for train and test accuracy"
      ]
    },
    {
      "cell_type": "code",
      "execution_count": 18,
      "metadata": {
        "colab": {
          "base_uri": "https://localhost:8080/",
          "height": 295
        },
        "id": "fmWRjmug2UOP",
        "outputId": "69ffa086-98ba-4517-b457-08bd89f21d6a"
      },
      "outputs": [
        {
          "output_type": "display_data",
          "data": {
            "text/plain": [
              "<Figure size 432x288 with 1 Axes>"
            ],
            "image/png": "[encoded data removed]"
          },
          "metadata": {
            "needs_background": "light"
          }
        }
      ],
      "source": [
        "plt.plot(history.history['accuracy'])\n",
        "plt.plot(history.history['val_accuracy'])\n",
        "plt.title('model accuracy')\n",
        "plt.ylabel('accuracy')\n",
        "plt.xlabel('epoch')\n",
        "plt.legend(['train', 'test'], loc='upper left')\n",
        "plt.show()"
      ]
    },
    {
      "cell_type": "markdown",
      "metadata": {
        "id": "mM4wkO432UOQ"
      },
      "source": [
        "### Visualising the model history for the train and test loss"
      ]
    },
    {
      "cell_type": "code",
      "execution_count": 19,
      "metadata": {
        "colab": {
          "base_uri": "https://localhost:8080/",
          "height": 295
        },
        "id": "7HYIm4Hg2UOQ",
        "outputId": "d7879719-40cd-4a4b-9788-eb0342e88ec3"
      },
      "outputs": [
        {
          "output_type": "display_data",
          "data": {
            "text/plain": [
              "<Figure size 432x288 with 1 Axes>"
            ],
            "image/png": "[encoded data removed]"
          },
          "metadata": {
            "needs_background": "light"
          }
        }
      ],
      "source": [
        "plt.plot(history.history['loss'])\n",
        "plt.plot(history.history['val_loss'])\n",
        "plt.title('model loss')\n",
        "plt.ylabel('loss')\n",
        "plt.xlabel('epoch')\n",
        "plt.legend(['train', 'test'], loc='upper left')\n",
        "plt.show()"
      ]
    },
    {
      "cell_type": "markdown",
      "metadata": {
        "id": "alM5Z7yr2UOQ"
      },
      "source": [
        "## Tuning the Hyperparameters :-  Batch Size and Epochs"
      ]
    },
    {
      "cell_type": "markdown",
      "metadata": {
        "id": "BVfai5eY2UOQ"
      },
      "source": [
        "### Creating a user defined function, that has the neural network model and compiles the model with the loss function and weight optimizers"
      ]
    },
    {
      "cell_type": "code",
      "execution_count": 20,
      "metadata": {
        "id": "eAflWlOv2UOR"
      },
      "outputs": [],
      "source": [
        "def create_model():\n",
        "    model = Sequential()\n",
        "    model.add(Dense(12, input_dim=10, kernel_initializer='uniform', activation='relu'))\n",
        "    model.add(Dense(8, kernel_initializer='uniform', activation='relu'))\n",
        "    model.add(Dense(1, kernel_initializer='uniform', activation='sigmoid'))\n",
        "    \n",
        "    adam=Adam(lr=0.01)\n",
        "    model.compile(loss='mse', optimizer=adam, metrics=['accuracy'])\n",
        "    return model"
      ]
    },
    {
      "cell_type": "markdown",
      "metadata": {
        "id": "uQsgxIqG2UOR"
      },
      "source": [
        "### Using Gridsearch CV, to find the best parameters, that contributes to higher accuracy of Regression, by passing in the user defined model function"
      ]
    },
    {
      "cell_type": "code",
      "execution_count": 21,
      "metadata": {
        "colab": {
          "base_uri": "https://localhost:8080/"
        },
        "id": "FoEsHJa92UOR",
        "outputId": "9cb9c91f-4217-4967-8309-bcb434ec5ab4"
      },
      "outputs": [
        {
          "output_type": "stream",
          "name": "stdout",
          "text": [
            "Fitting 5 folds for each of 9 candidates, totalling 45 fits\n",
            "[CV 1/5; 1/9] START batch_size=10, epochs=10....................................\n",
            "[CV 1/5; 1/9] END .....batch_size=10, epochs=10;, score=0.000 total time=  21.4s\n",
            "[CV 2/5; 1/9] START batch_size=10, epochs=10....................................\n",
            "[CV 2/5; 1/9] END .....batch_size=10, epochs=10;, score=0.000 total time=  21.4s\n",
            "[CV 3/5; 1/9] START batch_size=10, epochs=10....................................\n",
            "[CV 3/5; 1/9] END .....batch_size=10, epochs=10;, score=0.000 total time=  13.8s\n",
            "[CV 4/5; 1/9] START batch_size=10, epochs=10....................................\n",
            "[CV 4/5; 1/9] END .....batch_size=10, epochs=10;, score=0.000 total time=  21.3s\n",
            "[CV 5/5; 1/9] START batch_size=10, epochs=10....................................\n",
            "[CV 5/5; 1/9] END .....batch_size=10, epochs=10;, score=0.000 total time=  13.7s\n",
            "[CV 1/5; 2/9] START batch_size=10, epochs=50....................................\n",
            "[CV 1/5; 2/9] END .....batch_size=10, epochs=50;, score=0.000 total time= 1.1min\n",
            "[CV 2/5; 2/9] START batch_size=10, epochs=50....................................\n",
            "[CV 2/5; 2/9] END .....batch_size=10, epochs=50;, score=0.000 total time= 1.1min\n",
            "[CV 3/5; 2/9] START batch_size=10, epochs=50....................................\n",
            "[CV 3/5; 2/9] END .....batch_size=10, epochs=50;, score=0.000 total time= 1.1min\n",
            "[CV 4/5; 2/9] START batch_size=10, epochs=50....................................\n",
            "[CV 4/5; 2/9] END .....batch_size=10, epochs=50;, score=0.000 total time= 1.1min\n",
            "[CV 5/5; 2/9] START batch_size=10, epochs=50....................................\n",
            "[CV 5/5; 2/9] END .....batch_size=10, epochs=50;, score=0.000 total time= 1.4min\n",
            "[CV 1/5; 3/9] START batch_size=10, epochs=100...................................\n",
            "[CV 1/5; 3/9] END ....batch_size=10, epochs=100;, score=0.000 total time= 2.2min\n",
            "[CV 2/5; 3/9] START batch_size=10, epochs=100...................................\n",
            "[CV 2/5; 3/9] END ....batch_size=10, epochs=100;, score=0.000 total time= 2.2min\n",
            "[CV 3/5; 3/9] START batch_size=10, epochs=100...................................\n",
            "[CV 3/5; 3/9] END ....batch_size=10, epochs=100;, score=0.000 total time= 2.2min\n",
            "[CV 4/5; 3/9] START batch_size=10, epochs=100...................................\n",
            "[CV 4/5; 3/9] END ....batch_size=10, epochs=100;, score=0.000 total time= 2.4min\n",
            "[CV 5/5; 3/9] START batch_size=10, epochs=100...................................\n",
            "[CV 5/5; 3/9] END ....batch_size=10, epochs=100;, score=0.000 total time= 2.2min\n",
            "[CV 1/5; 4/9] START batch_size=20, epochs=10....................................\n",
            "[CV 1/5; 4/9] END .....batch_size=20, epochs=10;, score=0.000 total time=   7.1s\n",
            "[CV 2/5; 4/9] START batch_size=20, epochs=10....................................\n",
            "[CV 2/5; 4/9] END .....batch_size=20, epochs=10;, score=0.000 total time=   7.0s\n",
            "[CV 3/5; 4/9] START batch_size=20, epochs=10....................................\n",
            "[CV 3/5; 4/9] END .....batch_size=20, epochs=10;, score=0.000 total time=   7.2s\n",
            "[CV 4/5; 4/9] START batch_size=20, epochs=10....................................\n",
            "[CV 4/5; 4/9] END .....batch_size=20, epochs=10;, score=0.000 total time=  11.0s\n",
            "[CV 5/5; 4/9] START batch_size=20, epochs=10....................................\n",
            "[CV 5/5; 4/9] END .....batch_size=20, epochs=10;, score=0.000 total time=   7.4s\n",
            "[CV 1/5; 5/9] START batch_size=20, epochs=50....................................\n",
            "[CV 1/5; 5/9] END .....batch_size=20, epochs=50;, score=0.000 total time=  41.7s\n",
            "[CV 2/5; 5/9] START batch_size=20, epochs=50....................................\n",
            "[CV 2/5; 5/9] END .....batch_size=20, epochs=50;, score=0.000 total time=  32.9s\n",
            "[CV 3/5; 5/9] START batch_size=20, epochs=50....................................\n",
            "[CV 3/5; 5/9] END .....batch_size=20, epochs=50;, score=0.000 total time=  33.7s\n",
            "[CV 4/5; 5/9] START batch_size=20, epochs=50....................................\n",
            "[CV 4/5; 5/9] END .....batch_size=20, epochs=50;, score=0.000 total time=  32.9s\n",
            "[CV 5/5; 5/9] START batch_size=20, epochs=50....................................\n",
            "[CV 5/5; 5/9] END .....batch_size=20, epochs=50;, score=0.000 total time=  42.0s\n",
            "[CV 1/5; 6/9] START batch_size=20, epochs=100...................................\n",
            "[CV 1/5; 6/9] END ....batch_size=20, epochs=100;, score=0.000 total time= 1.1min\n",
            "[CV 2/5; 6/9] START batch_size=20, epochs=100...................................\n",
            "[CV 2/5; 6/9] END ....batch_size=20, epochs=100;, score=0.000 total time= 1.1min\n",
            "[CV 3/5; 6/9] START batch_size=20, epochs=100...................................\n",
            "[CV 3/5; 6/9] END ....batch_size=20, epochs=100;, score=0.000 total time= 1.1min\n",
            "[CV 4/5; 6/9] START batch_size=20, epochs=100...................................\n",
            "[CV 4/5; 6/9] END ....batch_size=20, epochs=100;, score=0.000 total time= 1.4min\n",
            "[CV 5/5; 6/9] START batch_size=20, epochs=100...................................\n",
            "[CV 5/5; 6/9] END ....batch_size=20, epochs=100;, score=0.000 total time= 1.1min\n",
            "[CV 1/5; 7/9] START batch_size=40, epochs=10....................................\n",
            "[CV 1/5; 7/9] END .....batch_size=40, epochs=10;, score=0.000 total time=   5.8s\n",
            "[CV 2/5; 7/9] START batch_size=40, epochs=10....................................\n",
            "[CV 2/5; 7/9] END .....batch_size=40, epochs=10;, score=0.000 total time=   5.8s\n",
            "[CV 3/5; 7/9] START batch_size=40, epochs=10....................................\n",
            "[CV 3/5; 7/9] END .....batch_size=40, epochs=10;, score=0.000 total time=   4.0s\n",
            "[CV 4/5; 7/9] START batch_size=40, epochs=10....................................\n",
            "[CV 4/5; 7/9] END .....batch_size=40, epochs=10;, score=0.000 total time=   4.0s\n",
            "[CV 5/5; 7/9] START batch_size=40, epochs=10....................................\n",
            "[CV 5/5; 7/9] END .....batch_size=40, epochs=10;, score=0.000 total time=   4.0s\n",
            "[CV 1/5; 8/9] START batch_size=40, epochs=50....................................\n",
            "[CV 1/5; 8/9] END .....batch_size=40, epochs=50;, score=0.000 total time=  18.1s\n",
            "[CV 2/5; 8/9] START batch_size=40, epochs=50....................................\n",
            "[CV 2/5; 8/9] END .....batch_size=40, epochs=50;, score=0.000 total time=  21.2s\n",
            "[CV 3/5; 8/9] START batch_size=40, epochs=50....................................\n",
            "[CV 3/5; 8/9] END .....batch_size=40, epochs=50;, score=0.000 total time=  21.2s\n",
            "[CV 4/5; 8/9] START batch_size=40, epochs=50....................................\n",
            "[CV 4/5; 8/9] END .....batch_size=40, epochs=50;, score=0.000 total time=  17.9s\n",
            "[CV 5/5; 8/9] START batch_size=40, epochs=50....................................\n",
            "[CV 5/5; 8/9] END .....batch_size=40, epochs=50;, score=0.000 total time=  21.2s\n",
            "[CV 1/5; 9/9] START batch_size=40, epochs=100...................................\n",
            "[CV 1/5; 9/9] END ....batch_size=40, epochs=100;, score=0.000 total time=  34.3s\n",
            "[CV 2/5; 9/9] START batch_size=40, epochs=100...................................\n",
            "[CV 2/5; 9/9] END ....batch_size=40, epochs=100;, score=0.000 total time=  41.6s\n",
            "[CV 3/5; 9/9] START batch_size=40, epochs=100...................................\n",
            "[CV 3/5; 9/9] END ....batch_size=40, epochs=100;, score=0.000 total time=  32.9s\n",
            "[CV 4/5; 9/9] START batch_size=40, epochs=100...................................\n",
            "[CV 4/5; 9/9] END ....batch_size=40, epochs=100;, score=0.000 total time=  41.7s\n",
            "[CV 5/5; 9/9] START batch_size=40, epochs=100...................................\n",
            "[CV 5/5; 9/9] END ....batch_size=40, epochs=100;, score=0.000 total time=  41.6s\n"
          ]
        }
      ],
      "source": [
        "model = KerasClassifier(build_fn = create_model,verbose = 0)\n",
        "batch_size = [10,20,40]\n",
        "epochs = [10,50,100]\n",
        "param_grid = dict(batch_size = batch_size,epochs = epochs)\n",
        "grid = GridSearchCV(estimator = model,param_grid = param_grid,cv = KFold(),verbose = 10)\n",
        "grid_result = grid.fit(X,Y)"
      ]
    },
    {
      "cell_type": "markdown",
      "metadata": {
        "id": "IyezgCzz2UOR"
      },
      "source": [
        "### Conclusion:\n"
      ]
    },
    {
      "cell_type": "markdown",
      "metadata": {
        "id": "9B2gLbgm2UOS"
      },
      "source": [
        "### The neural network helps predicting the turbine energy yield (TEY) using ambient variables as features, with the validation loss of 1.4047e-04, while evaluating the model.\n",
        "\n",
        "### Since, this is a regression problem, our evaluation metric is MSE, thus, our aim is to reduce the MSE value between the original and the predicted."
      ]
    }
  ],
  "metadata": {
    "kernelspec": {
      "display_name": "Python 3",
      "language": "python",
      "name": "python3"
    },
    "language_info": {
      "codemirror_mode": {
        "name": "ipython",
        "version": 3
      },
      "file_extension": ".py",
      "mimetype": "text/x-python",
      "name": "python",
      "nbconvert_exporter": "python",
      "pygments_lexer": "ipython3",
      "version": "3.8.8"
    },
    "colab": {
      "provenance": []
    }
  },
  "nbformat": 4,
  "nbformat_minor": 0
}